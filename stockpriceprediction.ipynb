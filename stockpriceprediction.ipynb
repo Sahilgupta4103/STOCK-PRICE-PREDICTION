{
  "nbformat": 4,
  "nbformat_minor": 0,
  "metadata": {
    "colab": {
      "name": "stockpriceprediction.ipynb",
      "provenance": [],
      "collapsed_sections": []
    },
    "kernelspec": {
      "name": "python3",
      "display_name": "Python 3"
    },
    "language_info": {
      "name": "python"
    }
  },
  "cells": [
    {
      "cell_type": "markdown",
      "source": [
        "PREDICTING STOCK PRICE USING LSTM AND TENSERFLOW LIBRARIES.\n",
        "USING A TIME SERIES DATA"
      ],
      "metadata": {
        "id": "43qRQ_rzNJ0C"
      }
    },
    {
      "cell_type": "markdown",
      "source": [
        "LSTM COMES UNDER RECURRENT NEURAL NETWORK.\n",
        "RNN saves the output of the first prediction and fees it into the next prediction"
      ],
      "metadata": {
        "id": "fzNVEUUUPHNl"
      }
    },
    {
      "cell_type": "code",
      "execution_count": 148,
      "metadata": {
        "id": "NgrtrYmvHs9S"
      },
      "outputs": [],
      "source": [
        "import math\n",
        "import pandas_datareader as pdr\n",
        "import numpy as np\n",
        "import pandas as pd\n",
        "from sklearn.preprocessing import MinMaxScaler\n",
        "from keras.models import sequential\n",
        "from keras.layers import Dense,LSTM"
      ]
    },
    {
      "cell_type": "code",
      "source": [
        "key = \"9c61871dd835c534446473a75eff1e9abb1d875f\""
      ],
      "metadata": {
        "id": "9MZFJZgpK1MW"
      },
      "execution_count": 149,
      "outputs": []
    },
    {
      "cell_type": "code",
      "source": [
        "df = pdr.get_data_tiingo('AAPL' , api_key = key)"
      ],
      "metadata": {
        "colab": {
          "base_uri": "https://localhost:8080/"
        },
        "id": "hA0kLE44JyBs",
        "outputId": "cc4753d9-0734-4b86-802c-5ab4dafea5e3"
      },
      "execution_count": 150,
      "outputs": [
        {
          "output_type": "stream",
          "name": "stderr",
          "text": [
            "/usr/local/lib/python3.7/dist-packages/pandas_datareader/tiingo.py:234: FutureWarning: In a future version of pandas all arguments of concat except for the argument 'objs' will be keyword-only\n",
            "  return pd.concat(dfs, self._concat_axis)\n"
          ]
        }
      ]
    },
    {
      "cell_type": "code",
      "source": [
        "df.head(5)"
      ],
      "metadata": {
        "colab": {
          "base_uri": "https://localhost:8080/",
          "height": 237
        },
        "id": "DWKjcTrLK85U",
        "outputId": "9e7512bd-ea32-40c9-9e57-737c35969197"
      },
      "execution_count": 151,
      "outputs": [
        {
          "output_type": "execute_result",
          "data": {
            "text/plain": [
              "                                   close    high     low    open    volume  \\\n",
              "symbol date                                                                  \n",
              "AAPL   2017-07-14 00:00:00+00:00  149.04  149.33  147.33  147.97  19961788   \n",
              "       2017-07-17 00:00:00+00:00  149.56  150.90  148.57  148.82  23243713   \n",
              "       2017-07-18 00:00:00+00:00  150.08  150.13  148.67  149.20  17713795   \n",
              "       2017-07-19 00:00:00+00:00  151.02  151.42  149.95  150.48  20615419   \n",
              "       2017-07-20 00:00:00+00:00  150.34  151.74  150.19  151.50  17053326   \n",
              "\n",
              "                                   adjClose    adjHigh     adjLow    adjOpen  \\\n",
              "symbol date                                                                    \n",
              "AAPL   2017-07-14 00:00:00+00:00  35.266378  35.334999  34.861752  35.013191   \n",
              "       2017-07-17 00:00:00+00:00  35.389423  35.706498  35.155165  35.214321   \n",
              "       2017-07-18 00:00:00+00:00  35.512467  35.524298  35.178828  35.304238   \n",
              "       2017-07-19 00:00:00+00:00  35.734893  35.829543  35.481706  35.607116   \n",
              "       2017-07-20 00:00:00+00:00  35.573989  35.905262  35.538496  35.848473   \n",
              "\n",
              "                                  adjVolume  divCash  splitFactor  \n",
              "symbol date                                                        \n",
              "AAPL   2017-07-14 00:00:00+00:00   79847152      0.0          1.0  \n",
              "       2017-07-17 00:00:00+00:00   92974852      0.0          1.0  \n",
              "       2017-07-18 00:00:00+00:00   70855180      0.0          1.0  \n",
              "       2017-07-19 00:00:00+00:00   82461676      0.0          1.0  \n",
              "       2017-07-20 00:00:00+00:00   68213304      0.0          1.0  "
            ],
            "text/html": [
              "\n",
              "  <div id=\"df-c49d4f22-0d84-40eb-94d7-7ef67c59c8cd\">\n",
              "    <div class=\"colab-df-container\">\n",
              "      <div>\n",
              "<style scoped>\n",
              "    .dataframe tbody tr th:only-of-type {\n",
              "        vertical-align: middle;\n",
              "    }\n",
              "\n",
              "    .dataframe tbody tr th {\n",
              "        vertical-align: top;\n",
              "    }\n",
              "\n",
              "    .dataframe thead th {\n",
              "        text-align: right;\n",
              "    }\n",
              "</style>\n",
              "<table border=\"1\" class=\"dataframe\">\n",
              "  <thead>\n",
              "    <tr style=\"text-align: right;\">\n",
              "      <th></th>\n",
              "      <th></th>\n",
              "      <th>close</th>\n",
              "      <th>high</th>\n",
              "      <th>low</th>\n",
              "      <th>open</th>\n",
              "      <th>volume</th>\n",
              "      <th>adjClose</th>\n",
              "      <th>adjHigh</th>\n",
              "      <th>adjLow</th>\n",
              "      <th>adjOpen</th>\n",
              "      <th>adjVolume</th>\n",
              "      <th>divCash</th>\n",
              "      <th>splitFactor</th>\n",
              "    </tr>\n",
              "    <tr>\n",
              "      <th>symbol</th>\n",
              "      <th>date</th>\n",
              "      <th></th>\n",
              "      <th></th>\n",
              "      <th></th>\n",
              "      <th></th>\n",
              "      <th></th>\n",
              "      <th></th>\n",
              "      <th></th>\n",
              "      <th></th>\n",
              "      <th></th>\n",
              "      <th></th>\n",
              "      <th></th>\n",
              "      <th></th>\n",
              "    </tr>\n",
              "  </thead>\n",
              "  <tbody>\n",
              "    <tr>\n",
              "      <th rowspan=\"5\" valign=\"top\">AAPL</th>\n",
              "      <th>2017-07-14 00:00:00+00:00</th>\n",
              "      <td>149.04</td>\n",
              "      <td>149.33</td>\n",
              "      <td>147.33</td>\n",
              "      <td>147.97</td>\n",
              "      <td>19961788</td>\n",
              "      <td>35.266378</td>\n",
              "      <td>35.334999</td>\n",
              "      <td>34.861752</td>\n",
              "      <td>35.013191</td>\n",
              "      <td>79847152</td>\n",
              "      <td>0.0</td>\n",
              "      <td>1.0</td>\n",
              "    </tr>\n",
              "    <tr>\n",
              "      <th>2017-07-17 00:00:00+00:00</th>\n",
              "      <td>149.56</td>\n",
              "      <td>150.90</td>\n",
              "      <td>148.57</td>\n",
              "      <td>148.82</td>\n",
              "      <td>23243713</td>\n",
              "      <td>35.389423</td>\n",
              "      <td>35.706498</td>\n",
              "      <td>35.155165</td>\n",
              "      <td>35.214321</td>\n",
              "      <td>92974852</td>\n",
              "      <td>0.0</td>\n",
              "      <td>1.0</td>\n",
              "    </tr>\n",
              "    <tr>\n",
              "      <th>2017-07-18 00:00:00+00:00</th>\n",
              "      <td>150.08</td>\n",
              "      <td>150.13</td>\n",
              "      <td>148.67</td>\n",
              "      <td>149.20</td>\n",
              "      <td>17713795</td>\n",
              "      <td>35.512467</td>\n",
              "      <td>35.524298</td>\n",
              "      <td>35.178828</td>\n",
              "      <td>35.304238</td>\n",
              "      <td>70855180</td>\n",
              "      <td>0.0</td>\n",
              "      <td>1.0</td>\n",
              "    </tr>\n",
              "    <tr>\n",
              "      <th>2017-07-19 00:00:00+00:00</th>\n",
              "      <td>151.02</td>\n",
              "      <td>151.42</td>\n",
              "      <td>149.95</td>\n",
              "      <td>150.48</td>\n",
              "      <td>20615419</td>\n",
              "      <td>35.734893</td>\n",
              "      <td>35.829543</td>\n",
              "      <td>35.481706</td>\n",
              "      <td>35.607116</td>\n",
              "      <td>82461676</td>\n",
              "      <td>0.0</td>\n",
              "      <td>1.0</td>\n",
              "    </tr>\n",
              "    <tr>\n",
              "      <th>2017-07-20 00:00:00+00:00</th>\n",
              "      <td>150.34</td>\n",
              "      <td>151.74</td>\n",
              "      <td>150.19</td>\n",
              "      <td>151.50</td>\n",
              "      <td>17053326</td>\n",
              "      <td>35.573989</td>\n",
              "      <td>35.905262</td>\n",
              "      <td>35.538496</td>\n",
              "      <td>35.848473</td>\n",
              "      <td>68213304</td>\n",
              "      <td>0.0</td>\n",
              "      <td>1.0</td>\n",
              "    </tr>\n",
              "  </tbody>\n",
              "</table>\n",
              "</div>\n",
              "      <button class=\"colab-df-convert\" onclick=\"convertToInteractive('df-c49d4f22-0d84-40eb-94d7-7ef67c59c8cd')\"\n",
              "              title=\"Convert this dataframe to an interactive table.\"\n",
              "              style=\"display:none;\">\n",
              "        \n",
              "  <svg xmlns=\"http://www.w3.org/2000/svg\" height=\"24px\"viewBox=\"0 0 24 24\"\n",
              "       width=\"24px\">\n",
              "    <path d=\"M0 0h24v24H0V0z\" fill=\"none\"/>\n",
              "    <path d=\"M18.56 5.44l.94 2.06.94-2.06 2.06-.94-2.06-.94-.94-2.06-.94 2.06-2.06.94zm-11 1L8.5 8.5l.94-2.06 2.06-.94-2.06-.94L8.5 2.5l-.94 2.06-2.06.94zm10 10l.94 2.06.94-2.06 2.06-.94-2.06-.94-.94-2.06-.94 2.06-2.06.94z\"/><path d=\"M17.41 7.96l-1.37-1.37c-.4-.4-.92-.59-1.43-.59-.52 0-1.04.2-1.43.59L10.3 9.45l-7.72 7.72c-.78.78-.78 2.05 0 2.83L4 21.41c.39.39.9.59 1.41.59.51 0 1.02-.2 1.41-.59l7.78-7.78 2.81-2.81c.8-.78.8-2.07 0-2.86zM5.41 20L4 18.59l7.72-7.72 1.47 1.35L5.41 20z\"/>\n",
              "  </svg>\n",
              "      </button>\n",
              "      \n",
              "  <style>\n",
              "    .colab-df-container {\n",
              "      display:flex;\n",
              "      flex-wrap:wrap;\n",
              "      gap: 12px;\n",
              "    }\n",
              "\n",
              "    .colab-df-convert {\n",
              "      background-color: #E8F0FE;\n",
              "      border: none;\n",
              "      border-radius: 50%;\n",
              "      cursor: pointer;\n",
              "      display: none;\n",
              "      fill: #1967D2;\n",
              "      height: 32px;\n",
              "      padding: 0 0 0 0;\n",
              "      width: 32px;\n",
              "    }\n",
              "\n",
              "    .colab-df-convert:hover {\n",
              "      background-color: #E2EBFA;\n",
              "      box-shadow: 0px 1px 2px rgba(60, 64, 67, 0.3), 0px 1px 3px 1px rgba(60, 64, 67, 0.15);\n",
              "      fill: #174EA6;\n",
              "    }\n",
              "\n",
              "    [theme=dark] .colab-df-convert {\n",
              "      background-color: #3B4455;\n",
              "      fill: #D2E3FC;\n",
              "    }\n",
              "\n",
              "    [theme=dark] .colab-df-convert:hover {\n",
              "      background-color: #434B5C;\n",
              "      box-shadow: 0px 1px 3px 1px rgba(0, 0, 0, 0.15);\n",
              "      filter: drop-shadow(0px 1px 2px rgba(0, 0, 0, 0.3));\n",
              "      fill: #FFFFFF;\n",
              "    }\n",
              "  </style>\n",
              "\n",
              "      <script>\n",
              "        const buttonEl =\n",
              "          document.querySelector('#df-c49d4f22-0d84-40eb-94d7-7ef67c59c8cd button.colab-df-convert');\n",
              "        buttonEl.style.display =\n",
              "          google.colab.kernel.accessAllowed ? 'block' : 'none';\n",
              "\n",
              "        async function convertToInteractive(key) {\n",
              "          const element = document.querySelector('#df-c49d4f22-0d84-40eb-94d7-7ef67c59c8cd');\n",
              "          const dataTable =\n",
              "            await google.colab.kernel.invokeFunction('convertToInteractive',\n",
              "                                                     [key], {});\n",
              "          if (!dataTable) return;\n",
              "\n",
              "          const docLinkHtml = 'Like what you see? Visit the ' +\n",
              "            '<a target=\"_blank\" href=https://colab.research.google.com/notebooks/data_table.ipynb>data table notebook</a>'\n",
              "            + ' to learn more about interactive tables.';\n",
              "          element.innerHTML = '';\n",
              "          dataTable['output_type'] = 'display_data';\n",
              "          await google.colab.output.renderOutput(dataTable, element);\n",
              "          const docLink = document.createElement('div');\n",
              "          docLink.innerHTML = docLinkHtml;\n",
              "          element.appendChild(docLink);\n",
              "        }\n",
              "      </script>\n",
              "    </div>\n",
              "  </div>\n",
              "  "
            ]
          },
          "metadata": {},
          "execution_count": 151
        }
      ]
    },
    {
      "cell_type": "code",
      "source": [
        "df.to_csv('AAPL.csv')"
      ],
      "metadata": {
        "id": "hGfr1gG_LbP5"
      },
      "execution_count": 152,
      "outputs": []
    },
    {
      "cell_type": "code",
      "source": [
        "df = pd.read_csv('AAPL.csv')"
      ],
      "metadata": {
        "id": "6EvUn0RZLh5z"
      },
      "execution_count": 153,
      "outputs": []
    },
    {
      "cell_type": "code",
      "source": [
        "df.tail(5)"
      ],
      "metadata": {
        "colab": {
          "base_uri": "https://localhost:8080/",
          "height": 206
        },
        "id": "hk3kOT5cL51G",
        "outputId": "98a68cfd-06f6-44af-d82a-c1c0fb6ae08f"
      },
      "execution_count": 154,
      "outputs": [
        {
          "output_type": "execute_result",
          "data": {
            "text/plain": [
              "     symbol                       date   close    high     low     open  \\\n",
              "1252   AAPL  2022-07-06 00:00:00+00:00  142.92  144.12  141.08  141.355   \n",
              "1253   AAPL  2022-07-07 00:00:00+00:00  146.35  146.55  143.28  143.290   \n",
              "1254   AAPL  2022-07-08 00:00:00+00:00  147.04  147.55  145.00  145.265   \n",
              "1255   AAPL  2022-07-11 00:00:00+00:00  144.87  146.64  143.78  145.670   \n",
              "1256   AAPL  2022-07-12 00:00:00+00:00  145.86  148.45  145.05  145.760   \n",
              "\n",
              "        volume  adjClose  adjHigh  adjLow  adjOpen  adjVolume  divCash  \\\n",
              "1252  74064254    142.92   144.12  141.08  141.355   74064254      0.0   \n",
              "1253  66253709    146.35   146.55  143.28  143.290   66253709      0.0   \n",
              "1254  64547798    147.04   147.55  145.00  145.265   64547798      0.0   \n",
              "1255  63305113    144.87   146.64  143.78  145.670   63305113      0.0   \n",
              "1256  77588759    145.86   148.45  145.05  145.760   77588759      0.0   \n",
              "\n",
              "      splitFactor  \n",
              "1252          1.0  \n",
              "1253          1.0  \n",
              "1254          1.0  \n",
              "1255          1.0  \n",
              "1256          1.0  "
            ],
            "text/html": [
              "\n",
              "  <div id=\"df-76e6de8e-9f3a-46c8-bcb3-08c23dd13f33\">\n",
              "    <div class=\"colab-df-container\">\n",
              "      <div>\n",
              "<style scoped>\n",
              "    .dataframe tbody tr th:only-of-type {\n",
              "        vertical-align: middle;\n",
              "    }\n",
              "\n",
              "    .dataframe tbody tr th {\n",
              "        vertical-align: top;\n",
              "    }\n",
              "\n",
              "    .dataframe thead th {\n",
              "        text-align: right;\n",
              "    }\n",
              "</style>\n",
              "<table border=\"1\" class=\"dataframe\">\n",
              "  <thead>\n",
              "    <tr style=\"text-align: right;\">\n",
              "      <th></th>\n",
              "      <th>symbol</th>\n",
              "      <th>date</th>\n",
              "      <th>close</th>\n",
              "      <th>high</th>\n",
              "      <th>low</th>\n",
              "      <th>open</th>\n",
              "      <th>volume</th>\n",
              "      <th>adjClose</th>\n",
              "      <th>adjHigh</th>\n",
              "      <th>adjLow</th>\n",
              "      <th>adjOpen</th>\n",
              "      <th>adjVolume</th>\n",
              "      <th>divCash</th>\n",
              "      <th>splitFactor</th>\n",
              "    </tr>\n",
              "  </thead>\n",
              "  <tbody>\n",
              "    <tr>\n",
              "      <th>1252</th>\n",
              "      <td>AAPL</td>\n",
              "      <td>2022-07-06 00:00:00+00:00</td>\n",
              "      <td>142.92</td>\n",
              "      <td>144.12</td>\n",
              "      <td>141.08</td>\n",
              "      <td>141.355</td>\n",
              "      <td>74064254</td>\n",
              "      <td>142.92</td>\n",
              "      <td>144.12</td>\n",
              "      <td>141.08</td>\n",
              "      <td>141.355</td>\n",
              "      <td>74064254</td>\n",
              "      <td>0.0</td>\n",
              "      <td>1.0</td>\n",
              "    </tr>\n",
              "    <tr>\n",
              "      <th>1253</th>\n",
              "      <td>AAPL</td>\n",
              "      <td>2022-07-07 00:00:00+00:00</td>\n",
              "      <td>146.35</td>\n",
              "      <td>146.55</td>\n",
              "      <td>143.28</td>\n",
              "      <td>143.290</td>\n",
              "      <td>66253709</td>\n",
              "      <td>146.35</td>\n",
              "      <td>146.55</td>\n",
              "      <td>143.28</td>\n",
              "      <td>143.290</td>\n",
              "      <td>66253709</td>\n",
              "      <td>0.0</td>\n",
              "      <td>1.0</td>\n",
              "    </tr>\n",
              "    <tr>\n",
              "      <th>1254</th>\n",
              "      <td>AAPL</td>\n",
              "      <td>2022-07-08 00:00:00+00:00</td>\n",
              "      <td>147.04</td>\n",
              "      <td>147.55</td>\n",
              "      <td>145.00</td>\n",
              "      <td>145.265</td>\n",
              "      <td>64547798</td>\n",
              "      <td>147.04</td>\n",
              "      <td>147.55</td>\n",
              "      <td>145.00</td>\n",
              "      <td>145.265</td>\n",
              "      <td>64547798</td>\n",
              "      <td>0.0</td>\n",
              "      <td>1.0</td>\n",
              "    </tr>\n",
              "    <tr>\n",
              "      <th>1255</th>\n",
              "      <td>AAPL</td>\n",
              "      <td>2022-07-11 00:00:00+00:00</td>\n",
              "      <td>144.87</td>\n",
              "      <td>146.64</td>\n",
              "      <td>143.78</td>\n",
              "      <td>145.670</td>\n",
              "      <td>63305113</td>\n",
              "      <td>144.87</td>\n",
              "      <td>146.64</td>\n",
              "      <td>143.78</td>\n",
              "      <td>145.670</td>\n",
              "      <td>63305113</td>\n",
              "      <td>0.0</td>\n",
              "      <td>1.0</td>\n",
              "    </tr>\n",
              "    <tr>\n",
              "      <th>1256</th>\n",
              "      <td>AAPL</td>\n",
              "      <td>2022-07-12 00:00:00+00:00</td>\n",
              "      <td>145.86</td>\n",
              "      <td>148.45</td>\n",
              "      <td>145.05</td>\n",
              "      <td>145.760</td>\n",
              "      <td>77588759</td>\n",
              "      <td>145.86</td>\n",
              "      <td>148.45</td>\n",
              "      <td>145.05</td>\n",
              "      <td>145.760</td>\n",
              "      <td>77588759</td>\n",
              "      <td>0.0</td>\n",
              "      <td>1.0</td>\n",
              "    </tr>\n",
              "  </tbody>\n",
              "</table>\n",
              "</div>\n",
              "      <button class=\"colab-df-convert\" onclick=\"convertToInteractive('df-76e6de8e-9f3a-46c8-bcb3-08c23dd13f33')\"\n",
              "              title=\"Convert this dataframe to an interactive table.\"\n",
              "              style=\"display:none;\">\n",
              "        \n",
              "  <svg xmlns=\"http://www.w3.org/2000/svg\" height=\"24px\"viewBox=\"0 0 24 24\"\n",
              "       width=\"24px\">\n",
              "    <path d=\"M0 0h24v24H0V0z\" fill=\"none\"/>\n",
              "    <path d=\"M18.56 5.44l.94 2.06.94-2.06 2.06-.94-2.06-.94-.94-2.06-.94 2.06-2.06.94zm-11 1L8.5 8.5l.94-2.06 2.06-.94-2.06-.94L8.5 2.5l-.94 2.06-2.06.94zm10 10l.94 2.06.94-2.06 2.06-.94-2.06-.94-.94-2.06-.94 2.06-2.06.94z\"/><path d=\"M17.41 7.96l-1.37-1.37c-.4-.4-.92-.59-1.43-.59-.52 0-1.04.2-1.43.59L10.3 9.45l-7.72 7.72c-.78.78-.78 2.05 0 2.83L4 21.41c.39.39.9.59 1.41.59.51 0 1.02-.2 1.41-.59l7.78-7.78 2.81-2.81c.8-.78.8-2.07 0-2.86zM5.41 20L4 18.59l7.72-7.72 1.47 1.35L5.41 20z\"/>\n",
              "  </svg>\n",
              "      </button>\n",
              "      \n",
              "  <style>\n",
              "    .colab-df-container {\n",
              "      display:flex;\n",
              "      flex-wrap:wrap;\n",
              "      gap: 12px;\n",
              "    }\n",
              "\n",
              "    .colab-df-convert {\n",
              "      background-color: #E8F0FE;\n",
              "      border: none;\n",
              "      border-radius: 50%;\n",
              "      cursor: pointer;\n",
              "      display: none;\n",
              "      fill: #1967D2;\n",
              "      height: 32px;\n",
              "      padding: 0 0 0 0;\n",
              "      width: 32px;\n",
              "    }\n",
              "\n",
              "    .colab-df-convert:hover {\n",
              "      background-color: #E2EBFA;\n",
              "      box-shadow: 0px 1px 2px rgba(60, 64, 67, 0.3), 0px 1px 3px 1px rgba(60, 64, 67, 0.15);\n",
              "      fill: #174EA6;\n",
              "    }\n",
              "\n",
              "    [theme=dark] .colab-df-convert {\n",
              "      background-color: #3B4455;\n",
              "      fill: #D2E3FC;\n",
              "    }\n",
              "\n",
              "    [theme=dark] .colab-df-convert:hover {\n",
              "      background-color: #434B5C;\n",
              "      box-shadow: 0px 1px 3px 1px rgba(0, 0, 0, 0.15);\n",
              "      filter: drop-shadow(0px 1px 2px rgba(0, 0, 0, 0.3));\n",
              "      fill: #FFFFFF;\n",
              "    }\n",
              "  </style>\n",
              "\n",
              "      <script>\n",
              "        const buttonEl =\n",
              "          document.querySelector('#df-76e6de8e-9f3a-46c8-bcb3-08c23dd13f33 button.colab-df-convert');\n",
              "        buttonEl.style.display =\n",
              "          google.colab.kernel.accessAllowed ? 'block' : 'none';\n",
              "\n",
              "        async function convertToInteractive(key) {\n",
              "          const element = document.querySelector('#df-76e6de8e-9f3a-46c8-bcb3-08c23dd13f33');\n",
              "          const dataTable =\n",
              "            await google.colab.kernel.invokeFunction('convertToInteractive',\n",
              "                                                     [key], {});\n",
              "          if (!dataTable) return;\n",
              "\n",
              "          const docLinkHtml = 'Like what you see? Visit the ' +\n",
              "            '<a target=\"_blank\" href=https://colab.research.google.com/notebooks/data_table.ipynb>data table notebook</a>'\n",
              "            + ' to learn more about interactive tables.';\n",
              "          element.innerHTML = '';\n",
              "          dataTable['output_type'] = 'display_data';\n",
              "          await google.colab.output.renderOutput(dataTable, element);\n",
              "          const docLink = document.createElement('div');\n",
              "          docLink.innerHTML = docLinkHtml;\n",
              "          element.appendChild(docLink);\n",
              "        }\n",
              "      </script>\n",
              "    </div>\n",
              "  </div>\n",
              "  "
            ]
          },
          "metadata": {},
          "execution_count": 154
        }
      ]
    },
    {
      "cell_type": "markdown",
      "source": [
        "PREDICTING ON CLOSE FEATURE"
      ],
      "metadata": {
        "id": "B5Or0Ai3MSJR"
      }
    },
    {
      "cell_type": "code",
      "source": [
        "dfnew = df.reset_index()['close']"
      ],
      "metadata": {
        "id": "Fr9qs_wAMVob"
      },
      "execution_count": 155,
      "outputs": []
    },
    {
      "cell_type": "code",
      "source": [
        "dfnew"
      ],
      "metadata": {
        "colab": {
          "base_uri": "https://localhost:8080/"
        },
        "id": "WR6DerDGMnlZ",
        "outputId": "aa84ef2a-90f4-4edc-f911-13fe404c510c"
      },
      "execution_count": 156,
      "outputs": [
        {
          "output_type": "execute_result",
          "data": {
            "text/plain": [
              "0       149.04\n",
              "1       149.56\n",
              "2       150.08\n",
              "3       151.02\n",
              "4       150.34\n",
              "         ...  \n",
              "1252    142.92\n",
              "1253    146.35\n",
              "1254    147.04\n",
              "1255    144.87\n",
              "1256    145.86\n",
              "Name: close, Length: 1257, dtype: float64"
            ]
          },
          "metadata": {},
          "execution_count": 156
        }
      ]
    },
    {
      "cell_type": "code",
      "source": [
        "dfnew.shape"
      ],
      "metadata": {
        "colab": {
          "base_uri": "https://localhost:8080/"
        },
        "id": "g7XNRJw8Mt8J",
        "outputId": "a62d66dd-e5de-46eb-e950-d99f08bc7347"
      },
      "execution_count": 157,
      "outputs": [
        {
          "output_type": "execute_result",
          "data": {
            "text/plain": [
              "(1257,)"
            ]
          },
          "metadata": {},
          "execution_count": 157
        }
      ]
    },
    {
      "cell_type": "code",
      "source": [
        "import matplotlib.pyplot as plt"
      ],
      "metadata": {
        "id": "HbUrr4mTM1OM"
      },
      "execution_count": 158,
      "outputs": []
    },
    {
      "cell_type": "code",
      "source": [
        "plt.plot(dfnew)"
      ],
      "metadata": {
        "colab": {
          "base_uri": "https://localhost:8080/",
          "height": 282
        },
        "id": "iVagpgpxM7QC",
        "outputId": "c67cb6e8-dd29-442d-a2fe-8854cb6c65a4"
      },
      "execution_count": 159,
      "outputs": [
        {
          "output_type": "execute_result",
          "data": {
            "text/plain": [
              "[<matplotlib.lines.Line2D at 0x7fbe056b7dd0>]"
            ]
          },
          "metadata": {},
          "execution_count": 159
        },
        {
          "output_type": "display_data",
          "data": {
            "text/plain": [
              "<Figure size 432x288 with 1 Axes>"
            ],
            "image/png": "[encoded data removed]"
          },
          "metadata": {
            "needs_background": "light"
          }
        }
      ]
    },
    {
      "cell_type": "markdown",
      "source": [
        "LSTM are veru much sensitive to the scale of the data. so we apply MinMax scaler"
      ],
      "metadata": {
        "id": "nbv27QIANH4C"
      }
    },
    {
      "cell_type": "code",
      "source": [
        "scaler = MinMaxScaler(feature_range=(0,1))\n",
        "dfnew = scaler.fit_transform(np.array(dfnew).reshape(-1,1))"
      ],
      "metadata": {
        "id": "aLC5NY3yNZkW"
      },
      "execution_count": 160,
      "outputs": []
    },
    {
      "cell_type": "code",
      "source": [
        "dfnew"
      ],
      "metadata": {
        "colab": {
          "base_uri": "https://localhost:8080/"
        },
        "id": "xd9B-hsJOokG",
        "outputId": "65bf7b4d-fa81-43c3-adca-e8fe0b6f23ae"
      },
      "execution_count": 161,
      "outputs": [
        {
          "output_type": "execute_result",
          "data": {
            "text/plain": [
              "array([[0.10569818],\n",
              "       [0.10700063],\n",
              "       [0.10830307],\n",
              "       ...,\n",
              "       [0.10068879],\n",
              "       [0.0952536 ],\n",
              "       [0.09773325]])"
            ]
          },
          "metadata": {},
          "execution_count": 161
        }
      ]
    },
    {
      "cell_type": "markdown",
      "source": [
        "VALUES CONVERTED TO THE RANGE OF (0,1)"
      ],
      "metadata": {
        "id": "X0cxy4u3Oqq6"
      }
    },
    {
      "cell_type": "markdown",
      "source": [
        "TIME SERIES DATA IS DIVIDED IN TRAIN AND TEST DATA SET ACCORDING TO THE DATE"
      ],
      "metadata": {
        "id": "deyrwdVZQU6j"
      }
    },
    {
      "cell_type": "code",
      "source": [
        "training_size = int(len(dfnew)*0.65) \n",
        "test_size = len(dfnew) - training_size"
      ],
      "metadata": {
        "id": "-mojKYY-Qc0t"
      },
      "execution_count": 162,
      "outputs": []
    },
    {
      "cell_type": "markdown",
      "source": [
        "dividing the dataset in train and test data.\n",
        "train data = 65 %\n",
        "test data = 35 %"
      ],
      "metadata": {
        "id": "8qBVB4BrSErF"
      }
    },
    {
      "cell_type": "code",
      "source": [
        "train_data,test_data = dfnew[0:training_size,:], dfnew[training_size:len(dfnew),:1]"
      ],
      "metadata": {
        "id": "ut2ZVa01RQUy"
      },
      "execution_count": 163,
      "outputs": []
    },
    {
      "cell_type": "code",
      "source": [
        "len(train_data)"
      ],
      "metadata": {
        "colab": {
          "base_uri": "https://localhost:8080/"
        },
        "id": "PdfOpgDyRyio",
        "outputId": "eec555e5-c343-4cc0-9e5b-5dcdd9c05ddb"
      },
      "execution_count": 164,
      "outputs": [
        {
          "output_type": "execute_result",
          "data": {
            "text/plain": [
              "817"
            ]
          },
          "metadata": {},
          "execution_count": 164
        }
      ]
    },
    {
      "cell_type": "code",
      "source": [
        "len(test_data)"
      ],
      "metadata": {
        "colab": {
          "base_uri": "https://localhost:8080/"
        },
        "id": "MiXx780KR2Zp",
        "outputId": "e8ded036-a351-4ad0-9f9e-18e61629942a"
      },
      "execution_count": 165,
      "outputs": [
        {
          "output_type": "execute_result",
          "data": {
            "text/plain": [
              "440"
            ]
          },
          "metadata": {},
          "execution_count": 165
        }
      ]
    },
    {
      "cell_type": "code",
      "source": [
        "train_data"
      ],
      "metadata": {
        "colab": {
          "base_uri": "https://localhost:8080/"
        },
        "id": "ddW1qPjL_9rg",
        "outputId": "63e3f053-974c-410e-b18b-2451789a4dbb"
      },
      "execution_count": 166,
      "outputs": [
        {
          "output_type": "execute_result",
          "data": {
            "text/plain": [
              "array([[1.05698184e-01],\n",
              "       [1.07000626e-01],\n",
              "       [1.08303068e-01],\n",
              "       [1.10657483e-01],\n",
              "       [1.08954289e-01],\n",
              "       [1.08778961e-01],\n",
              "       [1.13337508e-01],\n",
              "       [1.14965560e-01],\n",
              "       [1.16768942e-01],\n",
              "       [1.09505322e-01],\n",
              "       [1.06850344e-01],\n",
              "       [1.04921728e-01],\n",
              "       [1.08227927e-01],\n",
              "       [1.25986224e-01],\n",
              "       [1.22053851e-01],\n",
              "       [1.24107702e-01],\n",
              "       [1.30169067e-01],\n",
              "       [1.33350031e-01],\n",
              "       [1.35804629e-01],\n",
              "       [1.21427677e-01],\n",
              "       [1.26837821e-01],\n",
              "       [1.32773951e-01],\n",
              "       [1.37157170e-01],\n",
              "       [1.35529117e-01],\n",
              "       [1.27789606e-01],\n",
              "       [1.26887915e-01],\n",
              "       [1.26161553e-01],\n",
              "       [1.32598622e-01],\n",
              "       [1.33099562e-01],\n",
              "       [1.31321227e-01],\n",
              "       [1.32798998e-01],\n",
              "       [1.36831559e-01],\n",
              "       [1.40438322e-01],\n",
              "       [1.41540388e-01],\n",
              "       [1.43168441e-01],\n",
              "       [1.43293676e-01],\n",
              "       [1.38359424e-01],\n",
              "       [1.37933626e-01],\n",
              "       [1.36305573e-01],\n",
              "       [1.29718222e-01],\n",
              "       [1.36906700e-01],\n",
              "       [1.35303694e-01],\n",
              "       [1.32273012e-01],\n",
              "       [1.28841578e-01],\n",
              "       [1.32849092e-01],\n",
              "       [1.29818410e-01],\n",
              "       [1.29968691e-01],\n",
              "       [1.23306199e-01],\n",
              "       [1.16593613e-01],\n",
              "       [1.12836569e-01],\n",
              "       [1.09480276e-01],\n",
              "       [1.15967439e-01],\n",
              "       [1.18697558e-01],\n",
              "       [1.16318096e-01],\n",
              "       [1.18422041e-01],\n",
              "       [1.17645585e-01],\n",
              "       [1.19323732e-01],\n",
              "       [1.16819036e-01],\n",
              "       [1.21603006e-01],\n",
              "       [1.21377583e-01],\n",
              "       [1.22730119e-01],\n",
              "       [1.22880401e-01],\n",
              "       [1.24508453e-01],\n",
              "       [1.23130870e-01],\n",
              "       [1.25610520e-01],\n",
              "       [1.32849092e-01],\n",
              "       [1.34326863e-01],\n",
              "       [1.32548528e-01],\n",
              "       [1.23080776e-01],\n",
              "       [1.23757044e-01],\n",
              "       [1.23556669e-01],\n",
              "       [1.25886036e-01],\n",
              "       [1.24157796e-01],\n",
              "       [1.26662492e-01],\n",
              "       [1.40788979e-01],\n",
              "       [1.49981215e-01],\n",
              "       [1.55792110e-01],\n",
              "       [1.50407013e-01],\n",
              "       [1.53462743e-01],\n",
              "       [1.64458359e-01],\n",
              "       [1.68841578e-01],\n",
              "       [1.70244208e-01],\n",
              "       [1.73825924e-01],\n",
              "       [1.72924233e-01],\n",
              "       [1.69893550e-01],\n",
              "       [1.68140263e-01],\n",
              "       [1.61552912e-01],\n",
              "       [1.55892298e-01],\n",
              "       [1.60951785e-01],\n",
              "       [1.58572323e-01],\n",
              "       [1.58146525e-01],\n",
              "       [1.66061365e-01],\n",
              "       [1.70619912e-01],\n",
              "       [1.70644959e-01],\n",
              "       [1.68440827e-01],\n",
              "       [1.65886036e-01],\n",
              "       [1.56894177e-01],\n",
              "       [1.62830307e-01],\n",
              "       [1.60826550e-01],\n",
              "       [1.57695679e-01],\n",
              "       [1.57294928e-01],\n",
              "       [1.55716969e-01],\n",
              "       [1.56493425e-01],\n",
              "       [1.56618660e-01],\n",
              "       [1.64884158e-01],\n",
              "       [1.62454602e-01],\n",
              "       [1.63882279e-01],\n",
              "       [1.63757044e-01],\n",
              "       [1.68140263e-01],\n",
              "       [1.74276769e-01],\n",
              "       [1.69567940e-01],\n",
              "       [1.69092048e-01],\n",
              "       [1.70745147e-01],\n",
              "       [1.70745147e-01],\n",
              "       [1.59624296e-01],\n",
              "       [1.59699436e-01],\n",
              "       [1.60901691e-01],\n",
              "       [1.56268003e-01],\n",
              "       [1.63857232e-01],\n",
              "       [1.63782091e-01],\n",
              "       [1.65785848e-01],\n",
              "       [1.70720100e-01],\n",
              "       [1.69092048e-01],\n",
              "       [1.69041954e-01],\n",
              "       [1.68941766e-01],\n",
              "       [1.71421415e-01],\n",
              "       [1.75954915e-01],\n",
              "       [1.73700689e-01],\n",
              "       [1.80989355e-01],\n",
              "       [1.81390106e-01],\n",
              "       [1.79386349e-01],\n",
              "       [1.75729493e-01],\n",
              "       [1.75829681e-01],\n",
              "       [1.68766437e-01],\n",
              "       [1.60976832e-01],\n",
              "       [1.61978710e-01],\n",
              "       [1.53087038e-01],\n",
              "       [1.50607389e-01],\n",
              "       [1.51759549e-01],\n",
              "       [1.52636193e-01],\n",
              "       [1.34402004e-01],\n",
              "       [1.24358172e-01],\n",
              "       [1.40738885e-01],\n",
              "       [1.31997495e-01],\n",
              "       [1.21001879e-01],\n",
              "       [1.24157796e-01],\n",
              "       [1.39937383e-01],\n",
              "       [1.44020038e-01],\n",
              "       [1.51609267e-01],\n",
              "       [1.65685661e-01],\n",
              "       [1.64283031e-01],\n",
              "       [1.62830307e-01],\n",
              "       [1.60876644e-01],\n",
              "       [1.64458359e-01],\n",
              "       [1.71972448e-01],\n",
              "       [1.80663745e-01],\n",
              "       [1.79211021e-01],\n",
              "       [1.78534753e-01],\n",
              "       [1.70720100e-01],\n",
              "       [1.73750783e-01],\n",
              "       [1.75278647e-01],\n",
              "       [1.74902943e-01],\n",
              "       [1.70795241e-01],\n",
              "       [1.75579211e-01],\n",
              "       [1.83193488e-01],\n",
              "       [1.87551659e-01],\n",
              "       [1.83168441e-01],\n",
              "       [1.79336255e-01],\n",
              "       [1.79862242e-01],\n",
              "       [1.78284283e-01],\n",
              "       [1.71471509e-01],\n",
              "       [1.71321227e-01],\n",
              "       [1.61377583e-01],\n",
              "       [1.55316218e-01],\n",
              "       [1.45522855e-01],\n",
              "       [1.65134627e-01],\n",
              "       [1.54038823e-01],\n",
              "       [1.49380088e-01],\n",
              "       [1.52636193e-01],\n",
              "       [1.49881027e-01],\n",
              "       [1.54164058e-01],\n",
              "       [1.62229180e-01],\n",
              "       [1.65209768e-01],\n",
              "       [1.54139011e-01],\n",
              "       [1.58321853e-01],\n",
              "       [1.66336882e-01],\n",
              "       [1.64308078e-01],\n",
              "       [1.68566061e-01],\n",
              "       [1.70043832e-01],\n",
              "       [1.72773951e-01],\n",
              "       [1.78835316e-01],\n",
              "       [1.77833438e-01],\n",
              "       [1.65209768e-01],\n",
              "       [1.47476518e-01],\n",
              "       [1.46274264e-01],\n",
              "       [1.40513463e-01],\n",
              "       [1.42291797e-01],\n",
              "       [1.43719474e-01],\n",
              "       [1.38960551e-01],\n",
              "       [1.46324358e-01],\n",
              "       [1.55942392e-01],\n",
              "       [1.74652473e-01],\n",
              "       [1.75453976e-01],\n",
              "       [1.92836569e-01],\n",
              "       [1.96167815e-01],\n",
              "       [1.98396994e-01],\n",
              "       [2.01678147e-01],\n",
              "       [2.08390733e-01],\n",
              "       [2.04758923e-01],\n",
              "       [2.03656857e-01],\n",
              "       [1.99373826e-01],\n",
              "       [2.03731997e-01],\n",
              "       [2.00751409e-01],\n",
              "       [1.99048215e-01],\n",
              "       [2.02354415e-01],\n",
              "       [2.01177207e-01],\n",
              "       [2.04182843e-01],\n",
              "       [2.03656857e-01],\n",
              "       [2.04733876e-01],\n",
              "       [2.03030683e-01],\n",
              "       [2.02028804e-01],\n",
              "       [2.00450845e-01],\n",
              "       [2.08891672e-01],\n",
              "       [2.12874139e-01],\n",
              "       [2.16581090e-01],\n",
              "       [2.18259236e-01],\n",
              "       [2.16956794e-01],\n",
              "       [2.12548528e-01],\n",
              "       [2.11371321e-01],\n",
              "       [2.14001252e-01],\n",
              "       [2.10043832e-01],\n",
              "       [2.10294302e-01],\n",
              "       [2.05385097e-01],\n",
              "       [2.05134627e-01],\n",
              "       [1.97495304e-01],\n",
              "       [1.99524108e-01],\n",
              "       [1.96919224e-01],\n",
              "       [1.95566688e-01],\n",
              "       [1.88678773e-01],\n",
              "       [1.94339386e-01],\n",
              "       [1.93663118e-01],\n",
              "       [1.97019411e-01],\n",
              "       [1.96042580e-01],\n",
              "       [2.01227301e-01],\n",
              "       [1.93061991e-01],\n",
              "       [1.96768942e-01],\n",
              "       [2.03206011e-01],\n",
              "       [2.09743269e-01],\n",
              "       [2.09167188e-01],\n",
              "       [2.02980589e-01],\n",
              "       [2.10870382e-01],\n",
              "       [2.11621791e-01],\n",
              "       [2.10569818e-01],\n",
              "       [2.11922354e-01],\n",
              "       [2.09292423e-01],\n",
              "       [2.12999374e-01],\n",
              "       [2.11897307e-01],\n",
              "       [2.12323106e-01],\n",
              "       [2.15804634e-01],\n",
              "       [2.20363181e-01],\n",
              "       [2.18835316e-01],\n",
              "       [2.10745147e-01],\n",
              "       [2.08065122e-01],\n",
              "       [2.09016907e-01],\n",
              "       [2.37094552e-01],\n",
              "       [2.51847214e-01],\n",
              "       [2.53350031e-01],\n",
              "       [2.56055103e-01],\n",
              "       [2.51145899e-01],\n",
              "       [2.51496556e-01],\n",
              "       [2.55579211e-01],\n",
              "       [2.52197871e-01],\n",
              "       [2.55554164e-01],\n",
              "       [2.57758297e-01],\n",
              "       [2.58985598e-01],\n",
              "       [2.66700063e-01],\n",
              "       [2.77370069e-01],\n",
              "       [2.72060113e-01],\n",
              "       [2.71008140e-01],\n",
              "       [2.71033187e-01],\n",
              "       [2.72135254e-01],\n",
              "       [2.73813400e-01],\n",
              "       [2.78271760e-01],\n",
              "       [2.82680025e-01],\n",
              "       [2.90895429e-01],\n",
              "       [2.96030056e-01],\n",
              "       [3.02542267e-01],\n",
              "       [3.04370695e-01],\n",
              "       [3.00638698e-01],\n",
              "       [2.91195992e-01],\n",
              "       [2.86687539e-01],\n",
              "       [2.79248591e-01],\n",
              "       [2.93074515e-01],\n",
              "       [2.86111459e-01],\n",
              "       [2.99486537e-01],\n",
              "       [2.93049468e-01],\n",
              "       [2.78121478e-01],\n",
              "       [2.79023168e-01],\n",
              "       [2.79348779e-01],\n",
              "       [2.83506575e-01],\n",
              "       [2.77570445e-01],\n",
              "       [2.85410144e-01],\n",
              "       [2.88916719e-01],\n",
              "       [2.84483406e-01],\n",
              "       [2.95829681e-01],\n",
              "       [2.97808391e-01],\n",
              "       [3.01615529e-01],\n",
              "       [3.06675016e-01],\n",
              "       [3.13663118e-01],\n",
              "       [3.03443957e-01],\n",
              "       [2.94176581e-01],\n",
              "       [2.92874139e-01],\n",
              "       [3.00638698e-01],\n",
              "       [2.74314339e-01],\n",
              "       [2.69530369e-01],\n",
              "       [2.88716343e-01],\n",
              "       [2.76819036e-01],\n",
              "       [2.88816531e-01],\n",
              "       [2.86412023e-01],\n",
              "       [2.73462743e-01],\n",
              "       [2.81703193e-01],\n",
              "       [2.85059487e-01],\n",
              "       [2.90269255e-01],\n",
              "       [2.71133375e-01],\n",
              "       [2.82930495e-01],\n",
              "       [2.74164058e-01],\n",
              "       [2.63994991e-01],\n",
              "       [2.66649969e-01],\n",
              "       [2.80576080e-01],\n",
              "       [2.88991860e-01],\n",
              "       [2.52072636e-01],\n",
              "       [2.37319975e-01],\n",
              "       [2.42780213e-01],\n",
              "       [2.58259236e-01],\n",
              "       [2.54602379e-01],\n",
              "       [2.44533500e-01],\n",
              "       [2.18735128e-01],\n",
              "       [2.13876018e-01],\n",
              "       [2.00275517e-01],\n",
              "       [2.11822167e-01],\n",
              "       [2.17132123e-01],\n",
              "       [1.97921102e-01],\n",
              "       [1.75679399e-01],\n",
              "       [1.75178460e-01],\n",
              "       [1.63932373e-01],\n",
              "       [1.69768316e-01],\n",
              "       [1.68816531e-01],\n",
              "       [1.85597996e-01],\n",
              "       [1.82116468e-01],\n",
              "       [1.79686913e-01],\n",
              "       [1.95316218e-01],\n",
              "       [1.74953037e-01],\n",
              "       [1.70018785e-01],\n",
              "       [1.54414527e-01],\n",
              "       [1.57194740e-01],\n",
              "       [1.54765185e-01],\n",
              "       [1.55942392e-01],\n",
              "       [1.60576080e-01],\n",
              "       [1.46875391e-01],\n",
              "       [1.43018159e-01],\n",
              "       [1.48353162e-01],\n",
              "       [1.35378835e-01],\n",
              "       [1.25209768e-01],\n",
              "       [1.09931121e-01],\n",
              "       [1.00162805e-01],\n",
              "       [1.26061365e-01],\n",
              "       [1.23506575e-01],\n",
              "       [1.23706951e-01],\n",
              "       [1.27489042e-01],\n",
              "       [1.27939887e-01],\n",
              "       [8.85410144e-02],\n",
              "       [1.03744521e-01],\n",
              "       [1.02917971e-01],\n",
              "       [1.09981215e-01],\n",
              "       [1.16393237e-01],\n",
              "       [1.17620539e-01],\n",
              "       [1.13838447e-01],\n",
              "       [1.08102693e-01],\n",
              "       [1.15792110e-01],\n",
              "       [1.20475892e-01],\n",
              "       [1.22780213e-01],\n",
              "       [1.25184721e-01],\n",
              "       [1.16368190e-01],\n",
              "       [1.17921102e-01],\n",
              "       [1.14865373e-01],\n",
              "       [1.27539136e-01],\n",
              "       [1.23882279e-01],\n",
              "       [1.19824671e-01],\n",
              "       [1.46299311e-01],\n",
              "       [1.49279900e-01],\n",
              "       [1.49480276e-01],\n",
              "       [1.61327489e-01],\n",
              "       [1.68666249e-01],\n",
              "       [1.68816531e-01],\n",
              "       [1.60551033e-01],\n",
              "       [1.59223544e-01],\n",
              "       [1.56768942e-01],\n",
              "       [1.60425798e-01],\n",
              "       [1.58647464e-01],\n",
              "       [1.60200376e-01],\n",
              "       [1.59248591e-01],\n",
              "       [1.60525986e-01],\n",
              "       [1.63281152e-01],\n",
              "       [1.60851597e-01],\n",
              "       [1.65635567e-01],\n",
              "       [1.68791484e-01],\n",
              "       [1.69041954e-01],\n",
              "       [1.70394490e-01],\n",
              "       [1.66086412e-01],\n",
              "       [1.70644959e-01],\n",
              "       [1.72849092e-01],\n",
              "       [1.72047589e-01],\n",
              "       [1.69517846e-01],\n",
              "       [1.64458359e-01],\n",
              "       [1.65485285e-01],\n",
              "       [1.80488416e-01],\n",
              "       [1.85522855e-01],\n",
              "       [1.87526612e-01],\n",
              "       [1.92586099e-01],\n",
              "       [1.98572323e-01],\n",
              "       [2.03331246e-01],\n",
              "       [1.99599249e-01],\n",
              "       [2.03681904e-01],\n",
              "       [2.21039449e-01],\n",
              "       [2.10920476e-01],\n",
              "       [2.05134627e-01],\n",
              "       [2.00250470e-01],\n",
              "       [2.04458359e-01],\n",
              "       [2.05084534e-01],\n",
              "       [2.08165310e-01],\n",
              "       [2.11396368e-01],\n",
              "       [2.18359424e-01],\n",
              "       [2.21690670e-01],\n",
              "       [2.22542267e-01],\n",
              "       [2.25823419e-01],\n",
              "       [2.33587977e-01],\n",
              "       [2.32085160e-01],\n",
              "       [2.34890420e-01],\n",
              "       [2.30707577e-01],\n",
              "       [2.30507201e-01],\n",
              "       [2.31408892e-01],\n",
              "       [2.31458986e-01],\n",
              "       [2.41177207e-01],\n",
              "       [2.43005636e-01],\n",
              "       [2.44683782e-01],\n",
              "       [2.52072636e-01],\n",
              "       [2.51271133e-01],\n",
              "       [2.46562304e-01],\n",
              "       [2.44107702e-01],\n",
              "       [2.44884158e-01],\n",
              "       [2.35015654e-01],\n",
              "       [2.59686913e-01],\n",
              "       [2.56255479e-01],\n",
              "       [2.62767689e-01],\n",
              "       [2.54577332e-01],\n",
              "       [2.40500939e-01],\n",
              "       [2.40601127e-01],\n",
              "       [2.35140889e-01],\n",
              "       [2.26274264e-01],\n",
              "       [1.97570445e-01],\n",
              "       [2.04934252e-01],\n",
              "       [2.10594865e-01],\n",
              "       [2.08490920e-01],\n",
              "       [2.05785848e-01],\n",
              "       [1.90983093e-01],\n",
              "       [1.99774577e-01],\n",
              "       [1.90206637e-01],\n",
              "       [1.82391985e-01],\n",
              "       [1.80663745e-01],\n",
              "       [1.78810269e-01],\n",
              "       [1.76681277e-01],\n",
              "       [1.78985598e-01],\n",
              "       [1.70895429e-01],\n",
              "       [1.66462116e-01],\n",
              "       [1.82341891e-01],\n",
              "       [1.89605510e-01],\n",
              "       [1.96318096e-01],\n",
              "       [2.08666249e-01],\n",
              "       [2.14752661e-01],\n",
              "       [2.20338134e-01],\n",
              "       [2.18785222e-01],\n",
              "       [2.18685034e-01],\n",
              "       [2.15153413e-01],\n",
              "       [2.18033813e-01],\n",
              "       [2.29455229e-01],\n",
              "       [2.28002505e-01],\n",
              "       [2.31984972e-01],\n",
              "       [2.30281778e-01],\n",
              "       [2.29780839e-01],\n",
              "       [2.22241703e-01],\n",
              "       [2.32836569e-01],\n",
              "       [2.32686287e-01],\n",
              "       [2.28127740e-01],\n",
              "       [2.37219787e-01],\n",
              "       [2.40175329e-01],\n",
              "       [2.44383219e-01],\n",
              "       [2.43932373e-01],\n",
              "       [2.33387602e-01],\n",
              "       [2.36443331e-01],\n",
              "       [2.41427677e-01],\n",
              "       [2.37720726e-01],\n",
              "       [2.41603006e-01],\n",
              "       [2.46386976e-01],\n",
              "       [2.44608641e-01],\n",
              "       [2.41728240e-01],\n",
              "       [2.47514089e-01],\n",
              "       [2.39824671e-01],\n",
              "       [2.51421415e-01],\n",
              "       [2.55479023e-01],\n",
              "       [2.55053225e-01],\n",
              "       [2.50920476e-01],\n",
              "       [2.52723857e-01],\n",
              "       [2.57582968e-01],\n",
              "       [2.55328741e-01],\n",
              "       [2.65998748e-01],\n",
              "       [2.54452098e-01],\n",
              "       [2.43406387e-01],\n",
              "       [2.16656230e-01],\n",
              "       [2.25823419e-01],\n",
              "       [2.30932999e-01],\n",
              "       [2.41928616e-01],\n",
              "       [2.35817157e-01],\n",
              "       [2.34539762e-01],\n",
              "       [2.55804634e-01],\n",
              "       [2.40225423e-01],\n",
              "       [2.37695679e-01],\n",
              "       [2.49618034e-01],\n",
              "       [2.59261115e-01],\n",
              "       [2.59286162e-01],\n",
              "       [2.64996869e-01],\n",
              "       [2.64546024e-01],\n",
              "       [2.39949906e-01],\n",
              "       [2.49592987e-01],\n",
              "       [2.43757044e-01],\n",
              "       [2.47188478e-01],\n",
              "       [2.55904822e-01],\n",
              "       [2.55228554e-01],\n",
              "       [2.47614277e-01],\n",
              "       [2.56355667e-01],\n",
              "       [2.66599875e-01],\n",
              "       [2.66549781e-01],\n",
              "       [2.68829054e-01],\n",
              "       [2.75165936e-01],\n",
              "       [2.92423294e-01],\n",
              "       [2.91170946e-01],\n",
              "       [2.80300564e-01],\n",
              "       [2.83180964e-01],\n",
              "       [2.85184721e-01],\n",
              "       [2.90369443e-01],\n",
              "       [2.85835942e-01],\n",
              "       [2.77745773e-01],\n",
              "       [2.80225423e-01],\n",
              "       [2.77620539e-01],\n",
              "       [2.86011271e-01],\n",
              "       [2.83155917e-01],\n",
              "       [2.80475892e-01],\n",
              "       [2.93375078e-01],\n",
              "       [2.94927990e-01],\n",
              "       [2.80826550e-01],\n",
              "       [2.85485285e-01],\n",
              "       [3.00989355e-01],\n",
              "       [3.01114590e-01],\n",
              "       [2.94452098e-01],\n",
              "       [3.01039449e-01],\n",
              "       [3.08703820e-01],\n",
              "       [3.24032561e-01],\n",
              "       [3.23180964e-01],\n",
              "       [3.21803381e-01],\n",
              "       [3.19423920e-01],\n",
              "       [3.21703193e-01],\n",
              "       [3.24533500e-01],\n",
              "       [3.34802755e-01],\n",
              "       [3.33425172e-01],\n",
              "       [3.41490294e-01],\n",
              "       [3.42492173e-01],\n",
              "       [3.50006262e-01],\n",
              "       [3.56192862e-01],\n",
              "       [3.41765811e-01],\n",
              "       [3.41690670e-01],\n",
              "       [3.55466500e-01],\n",
              "       [3.73149656e-01],\n",
              "       [3.77357545e-01],\n",
              "       [3.76430808e-01],\n",
              "       [3.76706324e-01],\n",
              "       [3.82191609e-01],\n",
              "       [3.83969944e-01],\n",
              "       [3.89129618e-01],\n",
              "       [3.88528491e-01],\n",
              "       [3.94815279e-01],\n",
              "       [3.90231684e-01],\n",
              "       [3.98046337e-01],\n",
              "       [4.01402630e-01],\n",
              "       [3.99373826e-01],\n",
              "       [3.91609267e-01],\n",
              "       [3.88653726e-01],\n",
              "       [3.88077646e-01],\n",
              "       [3.99574202e-01],\n",
              "       [3.94364433e-01],\n",
              "       [4.03256105e-01],\n",
              "       [4.01778334e-01],\n",
              "       [3.94038823e-01],\n",
              "       [3.82241703e-01],\n",
              "       [3.87977458e-01],\n",
              "       [3.97595492e-01],\n",
              "       [4.10444584e-01],\n",
              "       [4.00951785e-01],\n",
              "       [4.04859111e-01],\n",
              "       [4.10594865e-01],\n",
              "       [4.12323106e-01],\n",
              "       [4.21565435e-01],\n",
              "       [4.33362555e-01],\n",
              "       [4.34740138e-01],\n",
              "       [4.33061991e-01],\n",
              "       [4.33763306e-01],\n",
              "       [4.32310582e-01],\n",
              "       [4.43731997e-01],\n",
              "       [4.44408265e-01],\n",
              "       [4.58534753e-01],\n",
              "       [4.58259236e-01],\n",
              "       [4.62567314e-01],\n",
              "       [4.67902317e-01],\n",
              "       [4.84683782e-01],\n",
              "       [4.77370069e-01],\n",
              "       [4.83306199e-01],\n",
              "       [4.79774577e-01],\n",
              "       [4.91797120e-01],\n",
              "       [5.07927364e-01],\n",
              "       [5.09680651e-01],\n",
              "       [5.26286788e-01],\n",
              "       [5.15566688e-01],\n",
              "       [5.12210394e-01],\n",
              "       [5.21978710e-01],\n",
              "       [5.30720100e-01],\n",
              "       [5.25309956e-01],\n",
              "       [5.28140263e-01],\n",
              "       [5.31972448e-01],\n",
              "       [5.29668128e-01],\n",
              "       [5.06224170e-01],\n",
              "       [5.28115216e-01],\n",
              "       [5.44771446e-01],\n",
              "       [5.43594239e-01],\n",
              "       [5.07626800e-01],\n",
              "       [5.05497808e-01],\n",
              "       [5.31020664e-01],\n",
              "       [5.37532874e-01],\n",
              "       [5.46950532e-01],\n",
              "       [5.33976205e-01],\n",
              "       [5.37783344e-01],\n",
              "       [5.32924233e-01],\n",
              "       [5.51934878e-01],\n",
              "       [5.46098936e-01],\n",
              "       [5.46299311e-01],\n",
              "       [5.31396368e-01],\n",
              "       [5.42968065e-01],\n",
              "       [5.34652473e-01],\n",
              "       [5.16493425e-01],\n",
              "       [4.79248591e-01],\n",
              "       [4.53951158e-01],\n",
              "       [4.65397621e-01],\n",
              "       [4.17482780e-01],\n",
              "       [4.17082029e-01],\n",
              "       [4.80826550e-01],\n",
              "       [4.57056982e-01],\n",
              "       [4.90670006e-01],\n",
              "       [4.66073889e-01],\n",
              "       [4.56330620e-01],\n",
              "       [3.99073262e-01],\n",
              "       [4.47088291e-01],\n",
              "       [4.22266750e-01],\n",
              "       [3.54139011e-01],\n",
              "       [4.28628679e-01],\n",
              "       [3.39060739e-01],\n",
              "       [3.65735755e-01],\n",
              "       [3.50231684e-01],\n",
              "       [3.45497808e-01],\n",
              "       [3.06574828e-01],\n",
              "       [2.94376957e-01],\n",
              "       [3.50757671e-01],\n",
              "       [3.47351284e-01],\n",
              "       [3.79711960e-01],\n",
              "       [3.52911709e-01],\n",
              "       [3.70619912e-01],\n",
              "       [3.69317470e-01],\n",
              "       [3.35804634e-01],\n",
              "       [3.45873513e-01],\n",
              "       [3.37056982e-01],\n",
              "       [3.89805886e-01],\n",
              "       [3.82191609e-01],\n",
              "       [3.98822793e-01],\n",
              "       [4.03631810e-01],\n",
              "       [4.16806512e-01],\n",
              "       [4.51371321e-01],\n",
              "       [4.44809017e-01],\n",
              "       [4.50469631e-01],\n",
              "       [4.40726362e-01],\n",
              "       [4.26023795e-01],\n",
              "       [4.04583594e-01],\n",
              "       [4.23944897e-01],\n",
              "       [4.21264872e-01],\n",
              "       [4.41152160e-01],\n",
              "       [4.41653100e-01],\n",
              "       [4.30156544e-01],\n",
              "       [4.53074515e-01],\n",
              "       [4.68278021e-01],\n",
              "       [4.56430808e-01],\n",
              "       [4.66675016e-01],\n",
              "       [4.77695679e-01],\n",
              "       [4.85385097e-01],\n",
              "       [4.93174703e-01],\n",
              "       [5.09179712e-01],\n",
              "       [5.21402630e-01],\n",
              "       [5.12385723e-01],\n",
              "       [5.02968065e-01],\n",
              "       [5.07701941e-01],\n",
              "       [5.03118347e-01],\n",
              "       [5.21277395e-01],\n",
              "       [5.16718848e-01],\n",
              "       [5.31972448e-01],\n",
              "       [5.26011271e-01],\n",
              "       [5.31120852e-01],\n",
              "       [5.25710708e-01],\n",
              "       [5.29167188e-01],\n",
              "       [5.29517846e-01],\n",
              "       [5.28741390e-01],\n",
              "       [5.38534753e-01],\n",
              "       [5.42266750e-01],\n",
              "       [5.46725110e-01],\n",
              "       [5.39711960e-01],\n",
              "       [5.62705072e-01],\n",
              "       [5.67614277e-01],\n",
              "       [5.93988729e-01],\n",
              "       [6.16155291e-01],\n",
              "       [5.73725736e-01],\n",
              "       [5.80989355e-01],\n",
              "       [5.91484033e-01],\n",
              "       [6.14251722e-01],\n",
              "       [6.13024421e-01],\n",
              "       [6.13375078e-01],\n",
              "       [6.08340639e-01],\n",
              "       [6.31258610e-01],\n",
              "       [6.50444584e-01],\n",
              "       [6.34239198e-01],\n",
              "       [6.46211647e-01],\n",
              "       [6.18134001e-01],\n",
              "       [6.38547276e-01],\n",
              "       [6.46111459e-01],\n",
              "       [6.44383219e-01],\n",
              "       [6.44383219e-01],\n",
              "       [6.68778961e-01],\n",
              "       [6.65873513e-01],\n",
              "       [6.87614277e-01],\n",
              "       [6.91721979e-01],\n",
              "       [6.93400125e-01],\n",
              "       [6.88966813e-01],\n",
              "       [7.04796493e-01],\n",
              "       [7.11484033e-01],\n",
              "       [6.99436443e-01],\n",
              "       [6.97482780e-01],\n",
              "       [7.17820914e-01],\n",
              "       [7.04220413e-01],\n",
              "       [7.06950532e-01],\n",
              "       [6.62592361e-01],\n",
              "       [6.60288040e-01],\n",
              "       [6.82279274e-01],\n",
              "       [6.66675016e-01],\n",
              "       [6.84583594e-01],\n",
              "       [6.96105197e-01],\n",
              "       [7.96994364e-01],\n",
              "       [8.23819662e-01],\n",
              "       [8.31108328e-01],\n",
              "       [8.35090795e-01],\n",
              "       [8.73562930e-01],\n",
              "       [8.45610520e-01],\n",
              "       [8.61790858e-01],\n",
              "       [8.28202880e-01],\n",
              "       [8.64621165e-01],\n",
              "       [8.84658735e-01],\n",
              "       [8.83631810e-01],\n",
              "       [8.80626174e-01],\n",
              "       [8.90194114e-01],\n",
              "       [8.91646838e-01],\n",
              "       [9.17370069e-01],\n",
              "       [9.78434565e-01],\n",
              "       [9.93337508e-01],\n",
              "       [9.82993112e-01],\n",
              "       [1.00000000e+00],\n",
              "       [9.84846587e-01],\n",
              "       [9.82817783e-01],\n",
              "       [5.56042580e-02],\n",
              "       [6.84783970e-02],\n",
              "       [6.15153413e-02],\n",
              "       [3.51659361e-02],\n",
              "       [3.53663118e-02],\n",
              "       [1.49780839e-02],\n",
              "       [2.62492173e-02],\n",
              "       [1.66562304e-02],\n",
              "       [1.29242329e-02],\n",
              "       [2.13274890e-02],\n",
              "       [2.17908579e-02],\n",
              "       [1.32498435e-02],\n",
              "       [8.76643707e-03],\n",
              "       [0.00000000e+00],\n",
              "       [8.11521603e-03],\n",
              "       [1.24483406e-02],\n",
              "       [7.01314966e-04],\n",
              "       [3.45648090e-03],\n",
              "       [1.36255479e-02],\n",
              "       [2.03381340e-02],\n",
              "       [1.81590482e-02],\n",
              "       [2.24671259e-02],\n",
              "       [2.49217282e-02],\n",
              "       [1.54790232e-02],\n",
              "       [2.41953663e-02],\n",
              "       [1.58296807e-02],\n",
              "       [2.06386976e-02],\n",
              "       [2.03631810e-02],\n",
              "       [2.53725736e-02]])"
            ]
          },
          "metadata": {},
          "execution_count": 166
        }
      ]
    },
    {
      "cell_type": "markdown",
      "source": [
        "TIMESTEPS - THE NUMBER OF PREVIOUS RESULTS CONSIDER TO PREDICT THE OUTPUT.\n",
        "FORN EG : IF TIMESTEP IS 3 THIS MEANS MODEL WE SILL THE THE OUTPUT OF PREVIOUS 3 DAYS AND PREDICT THE NEW OUTPUT"
      ],
      "metadata": {
        "id": "3RvDf6F-Sc0O"
      }
    },
    {
      "cell_type": "markdown",
      "source": [
        "NOW CONVERTING AN ARRAY OF VALUES INTO A DATA MATRIX"
      ],
      "metadata": {
        "id": "4Du8jmVfu5A0"
      }
    },
    {
      "cell_type": "code",
      "source": [
        "import numpy\n",
        "# convert an array of values into a dataset matrix\n",
        "def create_dataset(dataset, time_step=1):\n",
        "\tdataX, dataY = [], []\n",
        "\tfor i in range(len(dataset)-time_step-1):\n",
        "\t\ta = dataset[i:(i+time_step), 0]   ###i=0, 0,1,2,3-----99   100 \n",
        "\t\tdataX.append(a)\n",
        "\t\tdataY.append(dataset[i + time_step, 0])\n",
        "\treturn numpy.array(dataX), numpy.array(dataY)"
      ],
      "metadata": {
        "id": "8f-TANOzu-EI"
      },
      "execution_count": 167,
      "outputs": []
    },
    {
      "cell_type": "markdown",
      "source": [
        "reshape into X=t,t+1,t+2,t+3 and Y=t+4"
      ],
      "metadata": {
        "id": "_r7VQmNvv79l"
      }
    },
    {
      "cell_type": "code",
      "source": [
        "# reshape into X=t,t+1,t+2,t+3 and Y=t+4\n",
        "time_step = 100\n",
        "X_train, y_train = create_dataset(train_data, time_step)\n",
        "X_test, ytest = create_dataset(test_data, time_step)"
      ],
      "metadata": {
        "id": "ObPt9inSwHSI"
      },
      "execution_count": 168,
      "outputs": []
    },
    {
      "cell_type": "code",
      "source": [
        "print(X_train.shape), print(y_train.shape)\n"
      ],
      "metadata": {
        "colab": {
          "base_uri": "https://localhost:8080/"
        },
        "id": "pLyrAzA8zxaF",
        "outputId": "2610b190-6e66-4101-b855-51cefc8b6c0f"
      },
      "execution_count": 169,
      "outputs": [
        {
          "output_type": "stream",
          "name": "stdout",
          "text": [
            "(716, 100)\n",
            "(716,)\n"
          ]
        },
        {
          "output_type": "execute_result",
          "data": {
            "text/plain": [
              "(None, None)"
            ]
          },
          "metadata": {},
          "execution_count": 169
        }
      ]
    },
    {
      "cell_type": "code",
      "source": [
        "print(X_test.shape), print(ytest.shape)"
      ],
      "metadata": {
        "colab": {
          "base_uri": "https://localhost:8080/"
        },
        "id": "ZEkVRKjTAY4N",
        "outputId": "c09aa07d-a843-42b9-cb58-fe603e3fb99e"
      },
      "execution_count": 170,
      "outputs": [
        {
          "output_type": "stream",
          "name": "stdout",
          "text": [
            "(339, 100)\n",
            "(339,)\n"
          ]
        },
        {
          "output_type": "execute_result",
          "data": {
            "text/plain": [
              "(None, None)"
            ]
          },
          "metadata": {},
          "execution_count": 170
        }
      ]
    },
    {
      "cell_type": "markdown",
      "source": [
        "# reshape input to be [samples, time steps, features] which is required for LSTM"
      ],
      "metadata": {
        "id": "K3RI2NDuBYTj"
      }
    },
    {
      "cell_type": "markdown",
      "source": [
        "ADDING 1 THAT IS LAST PARAMETER OF RESHAPE() FUNCTION IS USE TO MAKE THE THE MATRIX 3 DIMENSIONAL"
      ],
      "metadata": {
        "id": "HlYgChLYBBEw"
      }
    },
    {
      "cell_type": "code",
      "source": [
        "X_train=X_train.reshape(X_train.shape[0],X_train.shape[1],1)\n",
        "X_test=X_test.reshape(X_test.shape[0],X_test.shape[1],1)"
      ],
      "metadata": {
        "id": "gnW2VooyAitV"
      },
      "execution_count": 171,
      "outputs": []
    },
    {
      "cell_type": "markdown",
      "source": [
        "# STACKED LSTM MODEL"
      ],
      "metadata": {
        "id": "-PIT1rEyBtf7"
      }
    },
    {
      "cell_type": "code",
      "source": [
        "from tensorflow.keras.models import Sequential\n",
        "from tensorflow.keras.layers import Dense\n",
        "from tensorflow.keras.layers import LSTM"
      ],
      "metadata": {
        "id": "FR5DOJhyA-VR"
      },
      "execution_count": 172,
      "outputs": []
    },
    {
      "cell_type": "code",
      "source": [
        "model=Sequential()\n",
        "model.add(LSTM(50,return_sequences=True,input_shape=(100,1)))   # 50 signifies the hidden layers\n",
        "model.add(LSTM(50,return_sequences=True))\n",
        "model.add(LSTM(50))\n",
        "model.add(Dense(1))\n",
        "model.compile(loss='mean_squared_error',optimizer='adam')"
      ],
      "metadata": {
        "id": "tuqOJP9CCHJ9"
      },
      "execution_count": 173,
      "outputs": []
    },
    {
      "cell_type": "code",
      "source": [
        "model.summary()"
      ],
      "metadata": {
        "colab": {
          "base_uri": "https://localhost:8080/"
        },
        "id": "KlW3_rE9C_1V",
        "outputId": "2eeb5983-3b81-4280-e572-16a73ade63e4"
      },
      "execution_count": 174,
      "outputs": [
        {
          "output_type": "stream",
          "name": "stdout",
          "text": [
            "Model: \"sequential_1\"\n",
            "_________________________________________________________________\n",
            " Layer (type)                Output Shape              Param #   \n",
            "=================================================================\n",
            " lstm_3 (LSTM)               (None, 100, 50)           10400     \n",
            "                                                                 \n",
            " lstm_4 (LSTM)               (None, 100, 50)           20200     \n",
            "                                                                 \n",
            " lstm_5 (LSTM)               (None, 50)                20200     \n",
            "                                                                 \n",
            " dense_1 (Dense)             (None, 1)                 51        \n",
            "                                                                 \n",
            "=================================================================\n",
            "Total params: 50,851\n",
            "Trainable params: 50,851\n",
            "Non-trainable params: 0\n",
            "_________________________________________________________________\n"
          ]
        }
      ]
    },
    {
      "cell_type": "code",
      "source": [
        "model.fit(X_train,y_train,validation_data=(X_test,ytest),epochs=100,batch_size=64,verbose=1)"
      ],
      "metadata": {
        "colab": {
          "base_uri": "https://localhost:8080/"
        },
        "id": "swvCz_RLDiFr",
        "outputId": "9cde18f7-7e3f-499f-97e0-ae09fde1286e"
      },
      "execution_count": 175,
      "outputs": [
        {
          "output_type": "stream",
          "name": "stdout",
          "text": [
            "Epoch 1/100\n",
            "12/12 [==============================] - 9s 326ms/step - loss: 0.0353 - val_loss: 6.8572e-04\n",
            "Epoch 2/100\n",
            "12/12 [==============================] - 2s 204ms/step - loss: 0.0170 - val_loss: 0.0059\n",
            "Epoch 3/100\n",
            "12/12 [==============================] - 2s 206ms/step - loss: 0.0129 - val_loss: 0.0034\n",
            "Epoch 4/100\n",
            "12/12 [==============================] - 2s 206ms/step - loss: 0.0108 - val_loss: 4.7966e-04\n",
            "Epoch 5/100\n",
            "12/12 [==============================] - 2s 205ms/step - loss: 0.0102 - val_loss: 2.8149e-04\n",
            "Epoch 6/100\n",
            "12/12 [==============================] - 2s 204ms/step - loss: 0.0088 - val_loss: 2.6618e-04\n",
            "Epoch 7/100\n",
            "12/12 [==============================] - 2s 204ms/step - loss: 0.0078 - val_loss: 9.3835e-04\n",
            "Epoch 8/100\n",
            "12/12 [==============================] - 2s 204ms/step - loss: 0.0073 - val_loss: 8.9386e-04\n",
            "Epoch 9/100\n",
            "12/12 [==============================] - 2s 205ms/step - loss: 0.0067 - val_loss: 0.0013\n",
            "Epoch 10/100\n",
            "12/12 [==============================] - 2s 204ms/step - loss: 0.0073 - val_loss: 5.3486e-04\n",
            "Epoch 11/100\n",
            "12/12 [==============================] - 2s 205ms/step - loss: 0.0066 - val_loss: 2.3329e-04\n",
            "Epoch 12/100\n",
            "12/12 [==============================] - 2s 203ms/step - loss: 0.0056 - val_loss: 2.4665e-04\n",
            "Epoch 13/100\n",
            "12/12 [==============================] - 2s 203ms/step - loss: 0.0045 - val_loss: 5.3089e-04\n",
            "Epoch 14/100\n",
            "12/12 [==============================] - 2s 207ms/step - loss: 0.0043 - val_loss: 4.2794e-04\n",
            "Epoch 15/100\n",
            "12/12 [==============================] - 3s 298ms/step - loss: 0.0037 - val_loss: 7.6811e-04\n",
            "Epoch 16/100\n",
            "12/12 [==============================] - 2s 206ms/step - loss: 0.0033 - val_loss: 5.9831e-04\n",
            "Epoch 17/100\n",
            "12/12 [==============================] - 2s 202ms/step - loss: 0.0032 - val_loss: 0.0011\n",
            "Epoch 18/100\n",
            "12/12 [==============================] - 2s 205ms/step - loss: 0.0037 - val_loss: 8.6251e-04\n",
            "Epoch 19/100\n",
            "12/12 [==============================] - 2s 206ms/step - loss: 0.0041 - val_loss: 2.6462e-04\n",
            "Epoch 20/100\n",
            "12/12 [==============================] - 2s 207ms/step - loss: 0.0065 - val_loss: 7.1648e-04\n",
            "Epoch 21/100\n",
            "12/12 [==============================] - 2s 206ms/step - loss: 0.0035 - val_loss: 5.0794e-04\n",
            "Epoch 22/100\n",
            "12/12 [==============================] - 2s 203ms/step - loss: 0.0026 - val_loss: 2.1638e-04\n",
            "Epoch 23/100\n",
            "12/12 [==============================] - 2s 204ms/step - loss: 0.0027 - val_loss: 5.1225e-04\n",
            "Epoch 24/100\n",
            "12/12 [==============================] - 2s 204ms/step - loss: 0.0027 - val_loss: 3.2074e-04\n",
            "Epoch 25/100\n",
            "12/12 [==============================] - 2s 207ms/step - loss: 0.0029 - val_loss: 2.4505e-04\n",
            "Epoch 26/100\n",
            "12/12 [==============================] - 2s 204ms/step - loss: 0.0026 - val_loss: 2.0461e-04\n",
            "Epoch 27/100\n",
            "12/12 [==============================] - 2s 206ms/step - loss: 0.0024 - val_loss: 2.3686e-04\n",
            "Epoch 28/100\n",
            "12/12 [==============================] - 2s 209ms/step - loss: 0.0021 - val_loss: 2.0626e-04\n",
            "Epoch 29/100\n",
            "12/12 [==============================] - 3s 212ms/step - loss: 0.0018 - val_loss: 1.9988e-04\n",
            "Epoch 30/100\n",
            "12/12 [==============================] - 2s 203ms/step - loss: 0.0022 - val_loss: 1.9114e-04\n",
            "Epoch 31/100\n",
            "12/12 [==============================] - 3s 257ms/step - loss: 0.0022 - val_loss: 1.8907e-04\n",
            "Epoch 32/100\n",
            "12/12 [==============================] - 2s 206ms/step - loss: 0.0019 - val_loss: 1.9770e-04\n",
            "Epoch 33/100\n",
            "12/12 [==============================] - 2s 208ms/step - loss: 0.0019 - val_loss: 1.9565e-04\n",
            "Epoch 34/100\n",
            "12/12 [==============================] - 2s 208ms/step - loss: 0.0022 - val_loss: 2.8136e-04\n",
            "Epoch 35/100\n",
            "12/12 [==============================] - 2s 207ms/step - loss: 0.0020 - val_loss: 1.9760e-04\n",
            "Epoch 36/100\n",
            "12/12 [==============================] - 3s 257ms/step - loss: 0.0020 - val_loss: 4.3252e-04\n",
            "Epoch 37/100\n",
            "12/12 [==============================] - 2s 210ms/step - loss: 0.0019 - val_loss: 2.0976e-04\n",
            "Epoch 38/100\n",
            "12/12 [==============================] - 2s 206ms/step - loss: 0.0018 - val_loss: 2.4628e-04\n",
            "Epoch 39/100\n",
            "12/12 [==============================] - 2s 208ms/step - loss: 0.0026 - val_loss: 6.4121e-04\n",
            "Epoch 40/100\n",
            "12/12 [==============================] - 2s 206ms/step - loss: 0.0034 - val_loss: 3.2507e-04\n",
            "Epoch 41/100\n",
            "12/12 [==============================] - 2s 205ms/step - loss: 0.0021 - val_loss: 2.9121e-04\n",
            "Epoch 42/100\n",
            "12/12 [==============================] - 4s 336ms/step - loss: 0.0024 - val_loss: 3.0417e-04\n",
            "Epoch 43/100\n",
            "12/12 [==============================] - 5s 377ms/step - loss: 0.0021 - val_loss: 2.0083e-04\n",
            "Epoch 44/100\n",
            "12/12 [==============================] - 4s 362ms/step - loss: 0.0021 - val_loss: 1.8668e-04\n",
            "Epoch 45/100\n",
            "12/12 [==============================] - 4s 362ms/step - loss: 0.0016 - val_loss: 2.4455e-04\n",
            "Epoch 46/100\n",
            "12/12 [==============================] - 4s 352ms/step - loss: 0.0016 - val_loss: 1.8687e-04\n",
            "Epoch 47/100\n",
            "12/12 [==============================] - 5s 400ms/step - loss: 0.0018 - val_loss: 2.0518e-04\n",
            "Epoch 48/100\n",
            "12/12 [==============================] - 4s 350ms/step - loss: 0.0016 - val_loss: 2.0431e-04\n",
            "Epoch 49/100\n",
            "12/12 [==============================] - 4s 344ms/step - loss: 0.0015 - val_loss: 3.0499e-04\n",
            "Epoch 50/100\n",
            "12/12 [==============================] - 4s 348ms/step - loss: 0.0016 - val_loss: 3.6140e-04\n",
            "Epoch 51/100\n",
            "12/12 [==============================] - 4s 347ms/step - loss: 0.0027 - val_loss: 4.4369e-04\n",
            "Epoch 52/100\n",
            "12/12 [==============================] - 4s 375ms/step - loss: 0.0037 - val_loss: 2.0442e-04\n",
            "Epoch 53/100\n",
            "12/12 [==============================] - 4s 339ms/step - loss: 0.0032 - val_loss: 3.8014e-04\n",
            "Epoch 54/100\n",
            "12/12 [==============================] - 5s 428ms/step - loss: 0.0046 - val_loss: 4.8799e-04\n",
            "Epoch 55/100\n",
            "12/12 [==============================] - 4s 334ms/step - loss: 0.0051 - val_loss: 7.1233e-04\n",
            "Epoch 56/100\n",
            "12/12 [==============================] - 3s 286ms/step - loss: 0.0039 - val_loss: 3.0475e-04\n",
            "Epoch 57/100\n",
            "12/12 [==============================] - 4s 298ms/step - loss: 0.0072 - val_loss: 1.8185e-04\n",
            "Epoch 58/100\n",
            "12/12 [==============================] - 4s 376ms/step - loss: 0.0037 - val_loss: 1.8231e-04\n",
            "Epoch 59/100\n",
            "12/12 [==============================] - 4s 309ms/step - loss: 0.0028 - val_loss: 3.5768e-04\n",
            "Epoch 60/100\n",
            "12/12 [==============================] - 4s 311ms/step - loss: 0.0021 - val_loss: 1.9864e-04\n",
            "Epoch 61/100\n",
            "12/12 [==============================] - 4s 365ms/step - loss: 0.0023 - val_loss: 1.7664e-04\n",
            "Epoch 62/100\n",
            "12/12 [==============================] - 4s 313ms/step - loss: 0.0021 - val_loss: 2.0992e-04\n",
            "Epoch 63/100\n",
            "12/12 [==============================] - 4s 326ms/step - loss: 0.0018 - val_loss: 1.7078e-04\n",
            "Epoch 64/100\n",
            "12/12 [==============================] - 3s 276ms/step - loss: 0.0019 - val_loss: 1.6770e-04\n",
            "Epoch 65/100\n",
            "12/12 [==============================] - 3s 288ms/step - loss: 0.0020 - val_loss: 1.8139e-04\n",
            "Epoch 66/100\n",
            "12/12 [==============================] - 5s 422ms/step - loss: 0.0018 - val_loss: 4.7412e-04\n",
            "Epoch 67/100\n",
            "12/12 [==============================] - 4s 339ms/step - loss: 0.0015 - val_loss: 2.2715e-04\n",
            "Epoch 68/100\n",
            "12/12 [==============================] - 4s 326ms/step - loss: 0.0016 - val_loss: 1.9841e-04\n",
            "Epoch 69/100\n",
            "12/12 [==============================] - 5s 415ms/step - loss: 0.0023 - val_loss: 1.9795e-04\n",
            "Epoch 70/100\n",
            "12/12 [==============================] - 3s 263ms/step - loss: 0.0031 - val_loss: 1.7502e-04\n",
            "Epoch 71/100\n",
            "12/12 [==============================] - 4s 337ms/step - loss: 0.0025 - val_loss: 5.9388e-04\n",
            "Epoch 72/100\n",
            "12/12 [==============================] - 3s 285ms/step - loss: 0.0021 - val_loss: 2.6405e-04\n",
            "Epoch 73/100\n",
            "12/12 [==============================] - 4s 327ms/step - loss: 0.0017 - val_loss: 2.1626e-04\n",
            "Epoch 74/100\n",
            "12/12 [==============================] - 4s 340ms/step - loss: 0.0016 - val_loss: 1.6740e-04\n",
            "Epoch 75/100\n",
            "12/12 [==============================] - 4s 301ms/step - loss: 0.0012 - val_loss: 2.6832e-04\n",
            "Epoch 76/100\n",
            "12/12 [==============================] - 4s 294ms/step - loss: 0.0013 - val_loss: 2.5474e-04\n",
            "Epoch 77/100\n",
            "12/12 [==============================] - 4s 336ms/step - loss: 0.0018 - val_loss: 1.7558e-04\n",
            "Epoch 78/100\n",
            "12/12 [==============================] - 4s 304ms/step - loss: 0.0021 - val_loss: 4.8902e-04\n",
            "Epoch 79/100\n",
            "12/12 [==============================] - 4s 297ms/step - loss: 0.0018 - val_loss: 5.6185e-04\n",
            "Epoch 80/100\n",
            "12/12 [==============================] - 3s 285ms/step - loss: 0.0016 - val_loss: 1.9089e-04\n",
            "Epoch 81/100\n",
            "12/12 [==============================] - 3s 290ms/step - loss: 0.0016 - val_loss: 2.2684e-04\n",
            "Epoch 82/100\n",
            "12/12 [==============================] - 3s 267ms/step - loss: 0.0020 - val_loss: 2.3563e-04\n",
            "Epoch 83/100\n",
            "12/12 [==============================] - 4s 302ms/step - loss: 0.0015 - val_loss: 1.7942e-04\n",
            "Epoch 84/100\n",
            "12/12 [==============================] - 3s 283ms/step - loss: 0.0014 - val_loss: 1.7332e-04\n",
            "Epoch 85/100\n",
            "12/12 [==============================] - 3s 281ms/step - loss: 0.0017 - val_loss: 2.3421e-04\n",
            "Epoch 86/100\n",
            "12/12 [==============================] - 3s 276ms/step - loss: 0.0014 - val_loss: 1.7614e-04\n",
            "Epoch 87/100\n",
            "12/12 [==============================] - 4s 333ms/step - loss: 0.0030 - val_loss: 3.6182e-04\n",
            "Epoch 88/100\n",
            "12/12 [==============================] - 3s 281ms/step - loss: 0.0042 - val_loss: 2.2680e-04\n",
            "Epoch 89/100\n",
            "12/12 [==============================] - 3s 275ms/step - loss: 0.0039 - val_loss: 5.2480e-04\n",
            "Epoch 90/100\n",
            "12/12 [==============================] - 4s 366ms/step - loss: 0.0037 - val_loss: 2.5293e-04\n",
            "Epoch 91/100\n",
            "12/12 [==============================] - 4s 322ms/step - loss: 0.0027 - val_loss: 3.4869e-04\n",
            "Epoch 92/100\n",
            "12/12 [==============================] - 5s 410ms/step - loss: 0.0024 - val_loss: 1.7457e-04\n",
            "Epoch 93/100\n",
            "12/12 [==============================] - 5s 406ms/step - loss: 0.0023 - val_loss: 1.8225e-04\n",
            "Epoch 94/100\n",
            "12/12 [==============================] - 4s 333ms/step - loss: 0.0021 - val_loss: 1.9769e-04\n",
            "Epoch 95/100\n",
            "12/12 [==============================] - 4s 369ms/step - loss: 0.0022 - val_loss: 4.3495e-04\n",
            "Epoch 96/100\n",
            "12/12 [==============================] - 4s 343ms/step - loss: 0.0020 - val_loss: 3.1217e-04\n",
            "Epoch 97/100\n",
            "12/12 [==============================] - 3s 274ms/step - loss: 0.0050 - val_loss: 7.3119e-04\n",
            "Epoch 98/100\n",
            "12/12 [==============================] - 4s 311ms/step - loss: 0.0028 - val_loss: 2.7828e-04\n",
            "Epoch 99/100\n",
            "12/12 [==============================] - 3s 267ms/step - loss: 0.0019 - val_loss: 1.6957e-04\n",
            "Epoch 100/100\n",
            "12/12 [==============================] - 5s 403ms/step - loss: 0.0019 - val_loss: 3.6183e-04\n"
          ]
        },
        {
          "output_type": "execute_result",
          "data": {
            "text/plain": [
              "<keras.callbacks.History at 0x7fbe05516950>"
            ]
          },
          "metadata": {},
          "execution_count": 175
        }
      ]
    },
    {
      "cell_type": "code",
      "source": [
        "import tensorflow as tf"
      ],
      "metadata": {
        "id": "U6dM6E_WELFj"
      },
      "execution_count": 176,
      "outputs": []
    },
    {
      "cell_type": "code",
      "source": [
        "train_predict=model.predict(X_train)\n",
        "test_predict=model.predict(X_test)"
      ],
      "metadata": {
        "id": "FvxGKJ-fMsls"
      },
      "execution_count": 177,
      "outputs": []
    },
    {
      "cell_type": "markdown",
      "source": [
        "#transforming bac to non scaler form"
      ],
      "metadata": {
        "id": "8gIw51MpND8K"
      }
    },
    {
      "cell_type": "code",
      "source": [
        "train_predict=scaler.inverse_transform(train_predict)\n",
        "test_predict=scaler.inverse_transform(test_predict)"
      ],
      "metadata": {
        "id": "Wr6v51HiNBEy"
      },
      "execution_count": 178,
      "outputs": []
    },
    {
      "cell_type": "markdown",
      "source": [
        "#RMSE"
      ],
      "metadata": {
        "id": "kH5AdkuwQ-Em"
      }
    },
    {
      "cell_type": "code",
      "source": [
        "import math\n",
        "from sklearn.metrics import mean_squared_error\n",
        "math.sqrt(mean_squared_error(y_train,train_predict))"
      ],
      "metadata": {
        "colab": {
          "base_uri": "https://localhost:8080/"
        },
        "id": "ZNY_9cFtNqOm",
        "outputId": "160e5a2e-88a9-4064-a745-f830e258455b"
      },
      "execution_count": 179,
      "outputs": [
        {
          "output_type": "execute_result",
          "data": {
            "text/plain": [
              "237.49842069763287"
            ]
          },
          "metadata": {},
          "execution_count": 179
        }
      ]
    },
    {
      "cell_type": "code",
      "source": [
        "math.sqrt(mean_squared_error(ytest,test_predict))"
      ],
      "metadata": {
        "colab": {
          "base_uri": "https://localhost:8080/"
        },
        "id": "t-8XaxKoOffb",
        "outputId": "be25886e-f475-4206-b261-6be581230674"
      },
      "execution_count": 180,
      "outputs": [
        {
          "output_type": "execute_result",
          "data": {
            "text/plain": [
              "144.70065198575446"
            ]
          },
          "metadata": {},
          "execution_count": 180
        }
      ]
    },
    {
      "cell_type": "markdown",
      "source": [
        "### Plotting \n",
        "# shift train predictions for plotting"
      ],
      "metadata": {
        "id": "vvEV927VOqa1"
      }
    },
    {
      "cell_type": "code",
      "source": [
        "look_back=100\n",
        "trainpredictplot = np.empty_like(dfnew)\n",
        "trainpredictplot[:, :] = np.nan\n",
        "trainpredictplot[look_back:len(train_predict)+look_back, :] = train_predict\n",
        "# shift test predictions for plotting\n",
        "testpredictplot = np.empty_like(dfnew)\n",
        "testpredictplot[:, :] = np.nan\n",
        "testpredictplot[len(train_predict)+(look_back*2)+1:len(dfnew)-1, :] = test_predict\n",
        "# plot baseline and predictions\n",
        "plt.plot(scaler.inverse_transform(dfnew))\n",
        "plt.plot(trainpredictplot)\n",
        "plt.plot(testpredictplot)\n",
        "plt.show()"
      ],
      "metadata": {
        "colab": {
          "base_uri": "https://localhost:8080/",
          "height": 265
        },
        "id": "nm_JrdRyOn58",
        "outputId": "c95c4a82-1f73-40b1-de59-805828ad3896"
      },
      "execution_count": 185,
      "outputs": [
        {
          "output_type": "display_data",
          "data": {
            "text/plain": [
              "<Figure size 432x288 with 1 Axes>"
            ],
            "image/png": "[encoded data removed]"
          },
          "metadata": {
            "needs_background": "light"
          }
        }
      ]
    },
    {
      "cell_type": "markdown",
      "source": [
        "BLUE - DATASET\n",
        "\n",
        "ORANGE - PREDICTIONS (TRAIN DATA)\n",
        "\n",
        "\n",
        "GREEN - OUTPUT (TEST DATA)"
      ],
      "metadata": {
        "id": "-KpCvCiMRIG9"
      }
    },
    {
      "cell_type": "code",
      "source": [
        "x_input=test_data[340:].reshape(1,-1)\n",
        "x_input.shape"
      ],
      "metadata": {
        "colab": {
          "base_uri": "https://localhost:8080/"
        },
        "id": "G2I1WfkeQMNG",
        "outputId": "3aff066d-e6fc-4e55-89d1-70a22e9c630d"
      },
      "execution_count": 189,
      "outputs": [
        {
          "output_type": "execute_result",
          "data": {
            "text/plain": [
              "(1, 100)"
            ]
          },
          "metadata": {},
          "execution_count": 189
        }
      ]
    },
    {
      "cell_type": "code",
      "source": [
        "temp_input=list(x_input)\n",
        "temp_input=temp_input[0].tolist()"
      ],
      "metadata": {
        "id": "DWDSDGkoSuEu"
      },
      "execution_count": 190,
      "outputs": []
    },
    {
      "cell_type": "code",
      "source": [
        "temp_input"
      ],
      "metadata": {
        "colab": {
          "base_uri": "https://localhost:8080/"
        },
        "id": "SrS3_sdjTNJk",
        "outputId": "93568d90-0eb3-49b6-af37-df2626d992e4"
      },
      "execution_count": 191,
      "outputs": [
        {
          "output_type": "execute_result",
          "data": {
            "text/plain": [
              "[0.1645835942391985,\n",
              " 0.15539135879774574,\n",
              " 0.15143393863494048,\n",
              " 0.14396994364433308,\n",
              " 0.13332498434564805,\n",
              " 0.14001252348152782,\n",
              " 0.14529743268628675,\n",
              " 0.14597370068879145,\n",
              " 0.14116468378209135,\n",
              " 0.14958046336881647,\n",
              " 0.1487539135879774,\n",
              " 0.14108954289292414,\n",
              " 0.13139636819035688,\n",
              " 0.1267376330619912,\n",
              " 0.1405385097056981,\n",
              " 0.12944270507201,\n",
              " 0.11994990607388845,\n",
              " 0.10965560425798371,\n",
              " 0.12085159674389478,\n",
              " 0.13212273011897302,\n",
              " 0.13470256731371316,\n",
              " 0.14311834690043823,\n",
              " 0.14662492172824038,\n",
              " 0.1552410770194113,\n",
              " 0.1587226048841578,\n",
              " 0.16839073262366933,\n",
              " 0.17001878522229175,\n",
              " 0.17222291797119593,\n",
              " 0.18063869755792106,\n",
              " 0.1776581089542893,\n",
              " 0.16974326862867878,\n",
              " 0.16899185973700687,\n",
              " 0.1793362554790231,\n",
              " 0.17087038196618654,\n",
              " 0.16278021289918598,\n",
              " 0.1635566687539135,\n",
              " 0.158422041327489,\n",
              " 0.14755165936130238,\n",
              " 0.1523356293049467,\n",
              " 0.15919849718221663,\n",
              " 0.14639949906073885,\n",
              " 0.1458484658735128,\n",
              " 0.15168440826549778,\n",
              " 0.15125860989355033,\n",
              " 0.14922980588603624,\n",
              " 0.13763306199123349,\n",
              " 0.140363180964308,\n",
              " 0.1251346274264245,\n",
              " 0.12455854727614268,\n",
              " 0.14226675015654344,\n",
              " 0.12726361928616153,\n",
              " 0.12804007514088916,\n",
              " 0.13184721352536,\n",
              " 0.14822792736380713,\n",
              " 0.12505948653725735,\n",
              " 0.12633688165309953,\n",
              " 0.11326236693800873,\n",
              " 0.11939887288666245,\n",
              " 0.09933625547902314,\n",
              " 0.08946775203506574,\n",
              " 0.10086412022542268,\n",
              " 0.09693174702567309,\n",
              " 0.10619912335629306,\n",
              " 0.08510958046336875,\n",
              " 0.0764182842830306,\n",
              " 0.07701941139636814,\n",
              " 0.09084533500313086,\n",
              " 0.08395742016280527,\n",
              " 0.0843581715716969,\n",
              " 0.09252348152786471,\n",
              " 0.10720100187852216,\n",
              " 0.10519724483406384,\n",
              " 0.10487163431433938,\n",
              " 0.11113337507827176,\n",
              " 0.09653099561678141,\n",
              " 0.09843456480901686,\n",
              " 0.10487163431433938,\n",
              " 0.10299311208515965,\n",
              " 0.0896681277395115,\n",
              " 0.07586725109580456,\n",
              " 0.0627175954915466,\n",
              " 0.06492172824045078,\n",
              " 0.07160926737633061,\n",
              " 0.05815904821540385,\n",
              " 0.061916092673763246,\n",
              " 0.0727113337507827,\n",
              " 0.07140889167188474,\n",
              " 0.07872260488415778,\n",
              " 0.08721352536005006,\n",
              " 0.08721352536005006,\n",
              " 0.07664370695053219,\n",
              " 0.08112711333750777,\n",
              " 0.07484032561051968,\n",
              " 0.08037570444583592,\n",
              " 0.08696305572949276,\n",
              " 0.09036944270507191,\n",
              " 0.09896055103318718,\n",
              " 0.10068879148403248,\n",
              " 0.09525360050093923,\n",
              " 0.0977332498434565]"
            ]
          },
          "metadata": {},
          "execution_count": 191
        }
      ]
    },
    {
      "cell_type": "markdown",
      "source": [
        "logic to pass the data of previous 100 days and predicting the output for next 30 days"
      ],
      "metadata": {
        "id": "OZdu7C-9VqOF"
      }
    },
    {
      "cell_type": "code",
      "source": [
        "from numpy import array\n",
        "\n",
        "lst_output=[]\n",
        "n_steps=100\n",
        "i=0\n",
        "while(i<30):      # 30 = predicting output for next 30 days\n",
        "  if(len(temp_input)>100):\n",
        "    #print(temp_input)\n",
        "    x_input=np.array(temp_input[1:])\n",
        "    print(\"{} day input {}\".format(i,x_input))\n",
        "    x_input=x_input.reshape(1,-1)\n",
        "    x_input=x_input.reshape((1,n_steps,1))\n",
        "    #print(x_input)\n",
        "    yhat=model.predict(x_input,verbose=0)\n",
        "    print(\"{} day output {}\".format(i,yhat))\n",
        "    temp_input.extend(yhat[0].tolist())\n",
        "    temp_input=temp_input[1:]\n",
        "    #print(temp_input)\n",
        "    lst_output.extend(yhat.tolist())\n",
        "    i=i+1\n",
        "  else:\n",
        "    x_input=x_input.reshape((1,n_steps,1))\n",
        "    yhat=model.predict(x_input,verbose=0)\n",
        "    print(yhat[0])\n",
        "    temp_input.extend(yhat[0].tolist())     #adding output to input list to maintain the size. so when the next figure is taken that shoud also be taken as a batch of 100 figures \n",
        "    print(len(temp_input))\n",
        "    lst_output.extend(yhat.tolist())        #adding output in output list\n",
        "    i=i+1\n",
        "\n",
        "print(lst_output)    "
      ],
      "metadata": {
        "colab": {
          "base_uri": "https://localhost:8080/"
        },
        "id": "IeLZ4Jh9TFy6",
        "outputId": "70f6900e-4830-4baf-8e8a-df2b9ddaaa94"
      },
      "execution_count": 195,
      "outputs": [
        {
          "output_type": "stream",
          "name": "stdout",
          "text": [
            "0 day input [ 0.10086412  0.09693175  0.10619912  0.08510958  0.07641828  0.07701941\n",
            "  0.09084534  0.08395742  0.08435817  0.09252348  0.107201    0.10519724\n",
            "  0.10487163  0.11113338  0.096531    0.09843456  0.10487163  0.10299311\n",
            "  0.08966813  0.07586725  0.0627176   0.06492173  0.07160927  0.05815905\n",
            "  0.06191609  0.07271133  0.07140889  0.0787226   0.08721353  0.08721353\n",
            "  0.07664371  0.08112711  0.07484033  0.0803757   0.08696306  0.09036944\n",
            "  0.09896055  0.10068879  0.0952536   0.09773325  0.07539792  0.076602\n",
            "  0.07636207  0.07509793  0.07320961  0.07097226  0.06854618  0.06601425\n",
            "  0.06341556  0.06076775  0.05807928  0.0553552   0.05259964  0.04981642\n",
            "  0.04700917  0.04418121  0.04133543  0.03847441  0.03560038  0.03271535\n",
            "  0.02982112  0.0269193   0.02401153  0.02109932  0.01818426  0.01526779\n",
            "  0.01235145  0.00943672  0.00652509  0.00361795  0.00071674 -0.00217729\n",
            " -0.00506281 -0.00793857 -0.01080356 -0.01365661 -0.01649679 -0.01932317\n",
            " -0.02213488 -0.02493118 -0.02771132 -0.03047462 -0.03322051 -0.03594832\n",
            " -0.03865754 -0.04134766 -0.04401815 -0.04666856 -0.04929836 -0.05190715\n",
            " -0.05449437 -0.05705965 -0.05960251 -0.0621225  -0.06461922 -0.06709218\n",
            " -0.06954106 -0.07196543 -0.07436488 -0.07673907]\n",
            "0 day output [[-0.07908764]]\n",
            "1 day input [ 0.09693175  0.10619912  0.08510958  0.07641828  0.07701941  0.09084534\n",
            "  0.08395742  0.08435817  0.09252348  0.107201    0.10519724  0.10487163\n",
            "  0.11113338  0.096531    0.09843456  0.10487163  0.10299311  0.08966813\n",
            "  0.07586725  0.0627176   0.06492173  0.07160927  0.05815905  0.06191609\n",
            "  0.07271133  0.07140889  0.0787226   0.08721353  0.08721353  0.07664371\n",
            "  0.08112711  0.07484033  0.0803757   0.08696306  0.09036944  0.09896055\n",
            "  0.10068879  0.0952536   0.09773325  0.07539792  0.076602    0.07636207\n",
            "  0.07509793  0.07320961  0.07097226  0.06854618  0.06601425  0.06341556\n",
            "  0.06076775  0.05807928  0.0553552   0.05259964  0.04981642  0.04700917\n",
            "  0.04418121  0.04133543  0.03847441  0.03560038  0.03271535  0.02982112\n",
            "  0.0269193   0.02401153  0.02109932  0.01818426  0.01526779  0.01235145\n",
            "  0.00943672  0.00652509  0.00361795  0.00071674 -0.00217729 -0.00506281\n",
            " -0.00793857 -0.01080356 -0.01365661 -0.01649679 -0.01932317 -0.02213488\n",
            " -0.02493118 -0.02771132 -0.03047462 -0.03322051 -0.03594832 -0.03865754\n",
            " -0.04134766 -0.04401815 -0.04666856 -0.04929836 -0.05190715 -0.05449437\n",
            " -0.05705965 -0.05960251 -0.0621225  -0.06461922 -0.06709218 -0.06954106\n",
            " -0.07196543 -0.07436488 -0.07673907 -0.07908764]\n",
            "1 day output [[-0.08141027]]\n",
            "2 day input [ 0.10619912  0.08510958  0.07641828  0.07701941  0.09084534  0.08395742\n",
            "  0.08435817  0.09252348  0.107201    0.10519724  0.10487163  0.11113338\n",
            "  0.096531    0.09843456  0.10487163  0.10299311  0.08966813  0.07586725\n",
            "  0.0627176   0.06492173  0.07160927  0.05815905  0.06191609  0.07271133\n",
            "  0.07140889  0.0787226   0.08721353  0.08721353  0.07664371  0.08112711\n",
            "  0.07484033  0.0803757   0.08696306  0.09036944  0.09896055  0.10068879\n",
            "  0.0952536   0.09773325  0.07539792  0.076602    0.07636207  0.07509793\n",
            "  0.07320961  0.07097226  0.06854618  0.06601425  0.06341556  0.06076775\n",
            "  0.05807928  0.0553552   0.05259964  0.04981642  0.04700917  0.04418121\n",
            "  0.04133543  0.03847441  0.03560038  0.03271535  0.02982112  0.0269193\n",
            "  0.02401153  0.02109932  0.01818426  0.01526779  0.01235145  0.00943672\n",
            "  0.00652509  0.00361795  0.00071674 -0.00217729 -0.00506281 -0.00793857\n",
            " -0.01080356 -0.01365661 -0.01649679 -0.01932317 -0.02213488 -0.02493118\n",
            " -0.02771132 -0.03047462 -0.03322051 -0.03594832 -0.03865754 -0.04134766\n",
            " -0.04401815 -0.04666856 -0.04929836 -0.05190715 -0.05449437 -0.05705965\n",
            " -0.05960251 -0.0621225  -0.06461922 -0.06709218 -0.06954106 -0.07196543\n",
            " -0.07436488 -0.07673907 -0.07908764 -0.08141027]\n",
            "2 day output [[-0.08370665]]\n",
            "3 day input [ 0.08510958  0.07641828  0.07701941  0.09084534  0.08395742  0.08435817\n",
            "  0.09252348  0.107201    0.10519724  0.10487163  0.11113338  0.096531\n",
            "  0.09843456  0.10487163  0.10299311  0.08966813  0.07586725  0.0627176\n",
            "  0.06492173  0.07160927  0.05815905  0.06191609  0.07271133  0.07140889\n",
            "  0.0787226   0.08721353  0.08721353  0.07664371  0.08112711  0.07484033\n",
            "  0.0803757   0.08696306  0.09036944  0.09896055  0.10068879  0.0952536\n",
            "  0.09773325  0.07539792  0.076602    0.07636207  0.07509793  0.07320961\n",
            "  0.07097226  0.06854618  0.06601425  0.06341556  0.06076775  0.05807928\n",
            "  0.0553552   0.05259964  0.04981642  0.04700917  0.04418121  0.04133543\n",
            "  0.03847441  0.03560038  0.03271535  0.02982112  0.0269193   0.02401153\n",
            "  0.02109932  0.01818426  0.01526779  0.01235145  0.00943672  0.00652509\n",
            "  0.00361795  0.00071674 -0.00217729 -0.00506281 -0.00793857 -0.01080356\n",
            " -0.01365661 -0.01649679 -0.01932317 -0.02213488 -0.02493118 -0.02771132\n",
            " -0.03047462 -0.03322051 -0.03594832 -0.03865754 -0.04134766 -0.04401815\n",
            " -0.04666856 -0.04929836 -0.05190715 -0.05449437 -0.05705965 -0.05960251\n",
            " -0.0621225  -0.06461922 -0.06709218 -0.06954106 -0.07196543 -0.07436488\n",
            " -0.07673907 -0.07908764 -0.08141027 -0.08370665]\n",
            "3 day output [[-0.08597647]]\n",
            "4 day input [ 0.07641828  0.07701941  0.09084534  0.08395742  0.08435817  0.09252348\n",
            "  0.107201    0.10519724  0.10487163  0.11113338  0.096531    0.09843456\n",
            "  0.10487163  0.10299311  0.08966813  0.07586725  0.0627176   0.06492173\n",
            "  0.07160927  0.05815905  0.06191609  0.07271133  0.07140889  0.0787226\n",
            "  0.08721353  0.08721353  0.07664371  0.08112711  0.07484033  0.0803757\n",
            "  0.08696306  0.09036944  0.09896055  0.10068879  0.0952536   0.09773325\n",
            "  0.07539792  0.076602    0.07636207  0.07509793  0.07320961  0.07097226\n",
            "  0.06854618  0.06601425  0.06341556  0.06076775  0.05807928  0.0553552\n",
            "  0.05259964  0.04981642  0.04700917  0.04418121  0.04133543  0.03847441\n",
            "  0.03560038  0.03271535  0.02982112  0.0269193   0.02401153  0.02109932\n",
            "  0.01818426  0.01526779  0.01235145  0.00943672  0.00652509  0.00361795\n",
            "  0.00071674 -0.00217729 -0.00506281 -0.00793857 -0.01080356 -0.01365661\n",
            " -0.01649679 -0.01932317 -0.02213488 -0.02493118 -0.02771132 -0.03047462\n",
            " -0.03322051 -0.03594832 -0.03865754 -0.04134766 -0.04401815 -0.04666856\n",
            " -0.04929836 -0.05190715 -0.05449437 -0.05705965 -0.05960251 -0.0621225\n",
            " -0.06461922 -0.06709218 -0.06954106 -0.07196543 -0.07436488 -0.07673907\n",
            " -0.07908764 -0.08141027 -0.08370665 -0.08597647]\n",
            "4 day output [[-0.0882195]]\n",
            "5 day input [ 0.07701941  0.09084534  0.08395742  0.08435817  0.09252348  0.107201\n",
            "  0.10519724  0.10487163  0.11113338  0.096531    0.09843456  0.10487163\n",
            "  0.10299311  0.08966813  0.07586725  0.0627176   0.06492173  0.07160927\n",
            "  0.05815905  0.06191609  0.07271133  0.07140889  0.0787226   0.08721353\n",
            "  0.08721353  0.07664371  0.08112711  0.07484033  0.0803757   0.08696306\n",
            "  0.09036944  0.09896055  0.10068879  0.0952536   0.09773325  0.07539792\n",
            "  0.076602    0.07636207  0.07509793  0.07320961  0.07097226  0.06854618\n",
            "  0.06601425  0.06341556  0.06076775  0.05807928  0.0553552   0.05259964\n",
            "  0.04981642  0.04700917  0.04418121  0.04133543  0.03847441  0.03560038\n",
            "  0.03271535  0.02982112  0.0269193   0.02401153  0.02109932  0.01818426\n",
            "  0.01526779  0.01235145  0.00943672  0.00652509  0.00361795  0.00071674\n",
            " -0.00217729 -0.00506281 -0.00793857 -0.01080356 -0.01365661 -0.01649679\n",
            " -0.01932317 -0.02213488 -0.02493118 -0.02771132 -0.03047462 -0.03322051\n",
            " -0.03594832 -0.03865754 -0.04134766 -0.04401815 -0.04666856 -0.04929836\n",
            " -0.05190715 -0.05449437 -0.05705965 -0.05960251 -0.0621225  -0.06461922\n",
            " -0.06709218 -0.06954106 -0.07196543 -0.07436488 -0.07673907 -0.07908764\n",
            " -0.08141027 -0.08370665 -0.08597647 -0.0882195 ]\n",
            "5 day output [[-0.09043546]]\n",
            "6 day input [ 0.09084534  0.08395742  0.08435817  0.09252348  0.107201    0.10519724\n",
            "  0.10487163  0.11113338  0.096531    0.09843456  0.10487163  0.10299311\n",
            "  0.08966813  0.07586725  0.0627176   0.06492173  0.07160927  0.05815905\n",
            "  0.06191609  0.07271133  0.07140889  0.0787226   0.08721353  0.08721353\n",
            "  0.07664371  0.08112711  0.07484033  0.0803757   0.08696306  0.09036944\n",
            "  0.09896055  0.10068879  0.0952536   0.09773325  0.07539792  0.076602\n",
            "  0.07636207  0.07509793  0.07320961  0.07097226  0.06854618  0.06601425\n",
            "  0.06341556  0.06076775  0.05807928  0.0553552   0.05259964  0.04981642\n",
            "  0.04700917  0.04418121  0.04133543  0.03847441  0.03560038  0.03271535\n",
            "  0.02982112  0.0269193   0.02401153  0.02109932  0.01818426  0.01526779\n",
            "  0.01235145  0.00943672  0.00652509  0.00361795  0.00071674 -0.00217729\n",
            " -0.00506281 -0.00793857 -0.01080356 -0.01365661 -0.01649679 -0.01932317\n",
            " -0.02213488 -0.02493118 -0.02771132 -0.03047462 -0.03322051 -0.03594832\n",
            " -0.03865754 -0.04134766 -0.04401815 -0.04666856 -0.04929836 -0.05190715\n",
            " -0.05449437 -0.05705965 -0.05960251 -0.0621225  -0.06461922 -0.06709218\n",
            " -0.06954106 -0.07196543 -0.07436488 -0.07673907 -0.07908764 -0.08141027\n",
            " -0.08370665 -0.08597647 -0.0882195  -0.09043546]\n",
            "6 day output [[-0.09262414]]\n",
            "7 day input [ 0.08395742  0.08435817  0.09252348  0.107201    0.10519724  0.10487163\n",
            "  0.11113338  0.096531    0.09843456  0.10487163  0.10299311  0.08966813\n",
            "  0.07586725  0.0627176   0.06492173  0.07160927  0.05815905  0.06191609\n",
            "  0.07271133  0.07140889  0.0787226   0.08721353  0.08721353  0.07664371\n",
            "  0.08112711  0.07484033  0.0803757   0.08696306  0.09036944  0.09896055\n",
            "  0.10068879  0.0952536   0.09773325  0.07539792  0.076602    0.07636207\n",
            "  0.07509793  0.07320961  0.07097226  0.06854618  0.06601425  0.06341556\n",
            "  0.06076775  0.05807928  0.0553552   0.05259964  0.04981642  0.04700917\n",
            "  0.04418121  0.04133543  0.03847441  0.03560038  0.03271535  0.02982112\n",
            "  0.0269193   0.02401153  0.02109932  0.01818426  0.01526779  0.01235145\n",
            "  0.00943672  0.00652509  0.00361795  0.00071674 -0.00217729 -0.00506281\n",
            " -0.00793857 -0.01080356 -0.01365661 -0.01649679 -0.01932317 -0.02213488\n",
            " -0.02493118 -0.02771132 -0.03047462 -0.03322051 -0.03594832 -0.03865754\n",
            " -0.04134766 -0.04401815 -0.04666856 -0.04929836 -0.05190715 -0.05449437\n",
            " -0.05705965 -0.05960251 -0.0621225  -0.06461922 -0.06709218 -0.06954106\n",
            " -0.07196543 -0.07436488 -0.07673907 -0.07908764 -0.08141027 -0.08370665\n",
            " -0.08597647 -0.0882195  -0.09043546 -0.09262414]\n",
            "7 day output [[-0.09478545]]\n",
            "8 day input [ 0.08435817  0.09252348  0.107201    0.10519724  0.10487163  0.11113338\n",
            "  0.096531    0.09843456  0.10487163  0.10299311  0.08966813  0.07586725\n",
            "  0.0627176   0.06492173  0.07160927  0.05815905  0.06191609  0.07271133\n",
            "  0.07140889  0.0787226   0.08721353  0.08721353  0.07664371  0.08112711\n",
            "  0.07484033  0.0803757   0.08696306  0.09036944  0.09896055  0.10068879\n",
            "  0.0952536   0.09773325  0.07539792  0.076602    0.07636207  0.07509793\n",
            "  0.07320961  0.07097226  0.06854618  0.06601425  0.06341556  0.06076775\n",
            "  0.05807928  0.0553552   0.05259964  0.04981642  0.04700917  0.04418121\n",
            "  0.04133543  0.03847441  0.03560038  0.03271535  0.02982112  0.0269193\n",
            "  0.02401153  0.02109932  0.01818426  0.01526779  0.01235145  0.00943672\n",
            "  0.00652509  0.00361795  0.00071674 -0.00217729 -0.00506281 -0.00793857\n",
            " -0.01080356 -0.01365661 -0.01649679 -0.01932317 -0.02213488 -0.02493118\n",
            " -0.02771132 -0.03047462 -0.03322051 -0.03594832 -0.03865754 -0.04134766\n",
            " -0.04401815 -0.04666856 -0.04929836 -0.05190715 -0.05449437 -0.05705965\n",
            " -0.05960251 -0.0621225  -0.06461922 -0.06709218 -0.06954106 -0.07196543\n",
            " -0.07436488 -0.07673907 -0.07908764 -0.08141027 -0.08370665 -0.08597647\n",
            " -0.0882195  -0.09043546 -0.09262414 -0.09478545]\n",
            "8 day output [[-0.09691908]]\n",
            "9 day input [ 0.09252348  0.107201    0.10519724  0.10487163  0.11113338  0.096531\n",
            "  0.09843456  0.10487163  0.10299311  0.08966813  0.07586725  0.0627176\n",
            "  0.06492173  0.07160927  0.05815905  0.06191609  0.07271133  0.07140889\n",
            "  0.0787226   0.08721353  0.08721353  0.07664371  0.08112711  0.07484033\n",
            "  0.0803757   0.08696306  0.09036944  0.09896055  0.10068879  0.0952536\n",
            "  0.09773325  0.07539792  0.076602    0.07636207  0.07509793  0.07320961\n",
            "  0.07097226  0.06854618  0.06601425  0.06341556  0.06076775  0.05807928\n",
            "  0.0553552   0.05259964  0.04981642  0.04700917  0.04418121  0.04133543\n",
            "  0.03847441  0.03560038  0.03271535  0.02982112  0.0269193   0.02401153\n",
            "  0.02109932  0.01818426  0.01526779  0.01235145  0.00943672  0.00652509\n",
            "  0.00361795  0.00071674 -0.00217729 -0.00506281 -0.00793857 -0.01080356\n",
            " -0.01365661 -0.01649679 -0.01932317 -0.02213488 -0.02493118 -0.02771132\n",
            " -0.03047462 -0.03322051 -0.03594832 -0.03865754 -0.04134766 -0.04401815\n",
            " -0.04666856 -0.04929836 -0.05190715 -0.05449437 -0.05705965 -0.05960251\n",
            " -0.0621225  -0.06461922 -0.06709218 -0.06954106 -0.07196543 -0.07436488\n",
            " -0.07673907 -0.07908764 -0.08141027 -0.08370665 -0.08597647 -0.0882195\n",
            " -0.09043546 -0.09262414 -0.09478545 -0.09691908]\n",
            "9 day output [[-0.09902499]]\n",
            "10 day input [ 0.107201    0.10519724  0.10487163  0.11113338  0.096531    0.09843456\n",
            "  0.10487163  0.10299311  0.08966813  0.07586725  0.0627176   0.06492173\n",
            "  0.07160927  0.05815905  0.06191609  0.07271133  0.07140889  0.0787226\n",
            "  0.08721353  0.08721353  0.07664371  0.08112711  0.07484033  0.0803757\n",
            "  0.08696306  0.09036944  0.09896055  0.10068879  0.0952536   0.09773325\n",
            "  0.07539792  0.076602    0.07636207  0.07509793  0.07320961  0.07097226\n",
            "  0.06854618  0.06601425  0.06341556  0.06076775  0.05807928  0.0553552\n",
            "  0.05259964  0.04981642  0.04700917  0.04418121  0.04133543  0.03847441\n",
            "  0.03560038  0.03271535  0.02982112  0.0269193   0.02401153  0.02109932\n",
            "  0.01818426  0.01526779  0.01235145  0.00943672  0.00652509  0.00361795\n",
            "  0.00071674 -0.00217729 -0.00506281 -0.00793857 -0.01080356 -0.01365661\n",
            " -0.01649679 -0.01932317 -0.02213488 -0.02493118 -0.02771132 -0.03047462\n",
            " -0.03322051 -0.03594832 -0.03865754 -0.04134766 -0.04401815 -0.04666856\n",
            " -0.04929836 -0.05190715 -0.05449437 -0.05705965 -0.05960251 -0.0621225\n",
            " -0.06461922 -0.06709218 -0.06954106 -0.07196543 -0.07436488 -0.07673907\n",
            " -0.07908764 -0.08141027 -0.08370665 -0.08597647 -0.0882195  -0.09043546\n",
            " -0.09262414 -0.09478545 -0.09691908 -0.09902499]\n",
            "10 day output [[-0.10110302]]\n",
            "11 day input [ 0.10519724  0.10487163  0.11113338  0.096531    0.09843456  0.10487163\n",
            "  0.10299311  0.08966813  0.07586725  0.0627176   0.06492173  0.07160927\n",
            "  0.05815905  0.06191609  0.07271133  0.07140889  0.0787226   0.08721353\n",
            "  0.08721353  0.07664371  0.08112711  0.07484033  0.0803757   0.08696306\n",
            "  0.09036944  0.09896055  0.10068879  0.0952536   0.09773325  0.07539792\n",
            "  0.076602    0.07636207  0.07509793  0.07320961  0.07097226  0.06854618\n",
            "  0.06601425  0.06341556  0.06076775  0.05807928  0.0553552   0.05259964\n",
            "  0.04981642  0.04700917  0.04418121  0.04133543  0.03847441  0.03560038\n",
            "  0.03271535  0.02982112  0.0269193   0.02401153  0.02109932  0.01818426\n",
            "  0.01526779  0.01235145  0.00943672  0.00652509  0.00361795  0.00071674\n",
            " -0.00217729 -0.00506281 -0.00793857 -0.01080356 -0.01365661 -0.01649679\n",
            " -0.01932317 -0.02213488 -0.02493118 -0.02771132 -0.03047462 -0.03322051\n",
            " -0.03594832 -0.03865754 -0.04134766 -0.04401815 -0.04666856 -0.04929836\n",
            " -0.05190715 -0.05449437 -0.05705965 -0.05960251 -0.0621225  -0.06461922\n",
            " -0.06709218 -0.06954106 -0.07196543 -0.07436488 -0.07673907 -0.07908764\n",
            " -0.08141027 -0.08370665 -0.08597647 -0.0882195  -0.09043546 -0.09262414\n",
            " -0.09478545 -0.09691908 -0.09902499 -0.10110302]\n",
            "11 day output [[-0.10315297]]\n",
            "12 day input [ 0.10487163  0.11113338  0.096531    0.09843456  0.10487163  0.10299311\n",
            "  0.08966813  0.07586725  0.0627176   0.06492173  0.07160927  0.05815905\n",
            "  0.06191609  0.07271133  0.07140889  0.0787226   0.08721353  0.08721353\n",
            "  0.07664371  0.08112711  0.07484033  0.0803757   0.08696306  0.09036944\n",
            "  0.09896055  0.10068879  0.0952536   0.09773325  0.07539792  0.076602\n",
            "  0.07636207  0.07509793  0.07320961  0.07097226  0.06854618  0.06601425\n",
            "  0.06341556  0.06076775  0.05807928  0.0553552   0.05259964  0.04981642\n",
            "  0.04700917  0.04418121  0.04133543  0.03847441  0.03560038  0.03271535\n",
            "  0.02982112  0.0269193   0.02401153  0.02109932  0.01818426  0.01526779\n",
            "  0.01235145  0.00943672  0.00652509  0.00361795  0.00071674 -0.00217729\n",
            " -0.00506281 -0.00793857 -0.01080356 -0.01365661 -0.01649679 -0.01932317\n",
            " -0.02213488 -0.02493118 -0.02771132 -0.03047462 -0.03322051 -0.03594832\n",
            " -0.03865754 -0.04134766 -0.04401815 -0.04666856 -0.04929836 -0.05190715\n",
            " -0.05449437 -0.05705965 -0.05960251 -0.0621225  -0.06461922 -0.06709218\n",
            " -0.06954106 -0.07196543 -0.07436488 -0.07673907 -0.07908764 -0.08141027\n",
            " -0.08370665 -0.08597647 -0.0882195  -0.09043546 -0.09262414 -0.09478545\n",
            " -0.09691908 -0.09902499 -0.10110302 -0.10315297]\n",
            "12 day output [[-0.10517495]]\n",
            "13 day input [ 0.11113338  0.096531    0.09843456  0.10487163  0.10299311  0.08966813\n",
            "  0.07586725  0.0627176   0.06492173  0.07160927  0.05815905  0.06191609\n",
            "  0.07271133  0.07140889  0.0787226   0.08721353  0.08721353  0.07664371\n",
            "  0.08112711  0.07484033  0.0803757   0.08696306  0.09036944  0.09896055\n",
            "  0.10068879  0.0952536   0.09773325  0.07539792  0.076602    0.07636207\n",
            "  0.07509793  0.07320961  0.07097226  0.06854618  0.06601425  0.06341556\n",
            "  0.06076775  0.05807928  0.0553552   0.05259964  0.04981642  0.04700917\n",
            "  0.04418121  0.04133543  0.03847441  0.03560038  0.03271535  0.02982112\n",
            "  0.0269193   0.02401153  0.02109932  0.01818426  0.01526779  0.01235145\n",
            "  0.00943672  0.00652509  0.00361795  0.00071674 -0.00217729 -0.00506281\n",
            " -0.00793857 -0.01080356 -0.01365661 -0.01649679 -0.01932317 -0.02213488\n",
            " -0.02493118 -0.02771132 -0.03047462 -0.03322051 -0.03594832 -0.03865754\n",
            " -0.04134766 -0.04401815 -0.04666856 -0.04929836 -0.05190715 -0.05449437\n",
            " -0.05705965 -0.05960251 -0.0621225  -0.06461922 -0.06709218 -0.06954106\n",
            " -0.07196543 -0.07436488 -0.07673907 -0.07908764 -0.08141027 -0.08370665\n",
            " -0.08597647 -0.0882195  -0.09043546 -0.09262414 -0.09478545 -0.09691908\n",
            " -0.09902499 -0.10110302 -0.10315297 -0.10517495]\n",
            "13 day output [[-0.10716876]]\n",
            "14 day input [ 0.096531    0.09843456  0.10487163  0.10299311  0.08966813  0.07586725\n",
            "  0.0627176   0.06492173  0.07160927  0.05815905  0.06191609  0.07271133\n",
            "  0.07140889  0.0787226   0.08721353  0.08721353  0.07664371  0.08112711\n",
            "  0.07484033  0.0803757   0.08696306  0.09036944  0.09896055  0.10068879\n",
            "  0.0952536   0.09773325  0.07539792  0.076602    0.07636207  0.07509793\n",
            "  0.07320961  0.07097226  0.06854618  0.06601425  0.06341556  0.06076775\n",
            "  0.05807928  0.0553552   0.05259964  0.04981642  0.04700917  0.04418121\n",
            "  0.04133543  0.03847441  0.03560038  0.03271535  0.02982112  0.0269193\n",
            "  0.02401153  0.02109932  0.01818426  0.01526779  0.01235145  0.00943672\n",
            "  0.00652509  0.00361795  0.00071674 -0.00217729 -0.00506281 -0.00793857\n",
            " -0.01080356 -0.01365661 -0.01649679 -0.01932317 -0.02213488 -0.02493118\n",
            " -0.02771132 -0.03047462 -0.03322051 -0.03594832 -0.03865754 -0.04134766\n",
            " -0.04401815 -0.04666856 -0.04929836 -0.05190715 -0.05449437 -0.05705965\n",
            " -0.05960251 -0.0621225  -0.06461922 -0.06709218 -0.06954106 -0.07196543\n",
            " -0.07436488 -0.07673907 -0.07908764 -0.08141027 -0.08370665 -0.08597647\n",
            " -0.0882195  -0.09043546 -0.09262414 -0.09478545 -0.09691908 -0.09902499\n",
            " -0.10110302 -0.10315297 -0.10517495 -0.10716876]\n",
            "14 day output [[-0.10913443]]\n",
            "15 day input [ 0.09843456  0.10487163  0.10299311  0.08966813  0.07586725  0.0627176\n",
            "  0.06492173  0.07160927  0.05815905  0.06191609  0.07271133  0.07140889\n",
            "  0.0787226   0.08721353  0.08721353  0.07664371  0.08112711  0.07484033\n",
            "  0.0803757   0.08696306  0.09036944  0.09896055  0.10068879  0.0952536\n",
            "  0.09773325  0.07539792  0.076602    0.07636207  0.07509793  0.07320961\n",
            "  0.07097226  0.06854618  0.06601425  0.06341556  0.06076775  0.05807928\n",
            "  0.0553552   0.05259964  0.04981642  0.04700917  0.04418121  0.04133543\n",
            "  0.03847441  0.03560038  0.03271535  0.02982112  0.0269193   0.02401153\n",
            "  0.02109932  0.01818426  0.01526779  0.01235145  0.00943672  0.00652509\n",
            "  0.00361795  0.00071674 -0.00217729 -0.00506281 -0.00793857 -0.01080356\n",
            " -0.01365661 -0.01649679 -0.01932317 -0.02213488 -0.02493118 -0.02771132\n",
            " -0.03047462 -0.03322051 -0.03594832 -0.03865754 -0.04134766 -0.04401815\n",
            " -0.04666856 -0.04929836 -0.05190715 -0.05449437 -0.05705965 -0.05960251\n",
            " -0.0621225  -0.06461922 -0.06709218 -0.06954106 -0.07196543 -0.07436488\n",
            " -0.07673907 -0.07908764 -0.08141027 -0.08370665 -0.08597647 -0.0882195\n",
            " -0.09043546 -0.09262414 -0.09478545 -0.09691908 -0.09902499 -0.10110302\n",
            " -0.10315297 -0.10517495 -0.10716876 -0.10913443]\n",
            "15 day output [[-0.11107191]]\n",
            "16 day input [ 0.10487163  0.10299311  0.08966813  0.07586725  0.0627176   0.06492173\n",
            "  0.07160927  0.05815905  0.06191609  0.07271133  0.07140889  0.0787226\n",
            "  0.08721353  0.08721353  0.07664371  0.08112711  0.07484033  0.0803757\n",
            "  0.08696306  0.09036944  0.09896055  0.10068879  0.0952536   0.09773325\n",
            "  0.07539792  0.076602    0.07636207  0.07509793  0.07320961  0.07097226\n",
            "  0.06854618  0.06601425  0.06341556  0.06076775  0.05807928  0.0553552\n",
            "  0.05259964  0.04981642  0.04700917  0.04418121  0.04133543  0.03847441\n",
            "  0.03560038  0.03271535  0.02982112  0.0269193   0.02401153  0.02109932\n",
            "  0.01818426  0.01526779  0.01235145  0.00943672  0.00652509  0.00361795\n",
            "  0.00071674 -0.00217729 -0.00506281 -0.00793857 -0.01080356 -0.01365661\n",
            " -0.01649679 -0.01932317 -0.02213488 -0.02493118 -0.02771132 -0.03047462\n",
            " -0.03322051 -0.03594832 -0.03865754 -0.04134766 -0.04401815 -0.04666856\n",
            " -0.04929836 -0.05190715 -0.05449437 -0.05705965 -0.05960251 -0.0621225\n",
            " -0.06461922 -0.06709218 -0.06954106 -0.07196543 -0.07436488 -0.07673907\n",
            " -0.07908764 -0.08141027 -0.08370665 -0.08597647 -0.0882195  -0.09043546\n",
            " -0.09262414 -0.09478545 -0.09691908 -0.09902499 -0.10110302 -0.10315297\n",
            " -0.10517495 -0.10716876 -0.10913443 -0.11107191]\n",
            "16 day output [[-0.11298127]]\n",
            "17 day input [ 0.10299311  0.08966813  0.07586725  0.0627176   0.06492173  0.07160927\n",
            "  0.05815905  0.06191609  0.07271133  0.07140889  0.0787226   0.08721353\n",
            "  0.08721353  0.07664371  0.08112711  0.07484033  0.0803757   0.08696306\n",
            "  0.09036944  0.09896055  0.10068879  0.0952536   0.09773325  0.07539792\n",
            "  0.076602    0.07636207  0.07509793  0.07320961  0.07097226  0.06854618\n",
            "  0.06601425  0.06341556  0.06076775  0.05807928  0.0553552   0.05259964\n",
            "  0.04981642  0.04700917  0.04418121  0.04133543  0.03847441  0.03560038\n",
            "  0.03271535  0.02982112  0.0269193   0.02401153  0.02109932  0.01818426\n",
            "  0.01526779  0.01235145  0.00943672  0.00652509  0.00361795  0.00071674\n",
            " -0.00217729 -0.00506281 -0.00793857 -0.01080356 -0.01365661 -0.01649679\n",
            " -0.01932317 -0.02213488 -0.02493118 -0.02771132 -0.03047462 -0.03322051\n",
            " -0.03594832 -0.03865754 -0.04134766 -0.04401815 -0.04666856 -0.04929836\n",
            " -0.05190715 -0.05449437 -0.05705965 -0.05960251 -0.0621225  -0.06461922\n",
            " -0.06709218 -0.06954106 -0.07196543 -0.07436488 -0.07673907 -0.07908764\n",
            " -0.08141027 -0.08370665 -0.08597647 -0.0882195  -0.09043546 -0.09262414\n",
            " -0.09478545 -0.09691908 -0.09902499 -0.10110302 -0.10315297 -0.10517495\n",
            " -0.10716876 -0.10913443 -0.11107191 -0.11298127]\n",
            "17 day output [[-0.11486245]]\n",
            "18 day input [ 0.08966813  0.07586725  0.0627176   0.06492173  0.07160927  0.05815905\n",
            "  0.06191609  0.07271133  0.07140889  0.0787226   0.08721353  0.08721353\n",
            "  0.07664371  0.08112711  0.07484033  0.0803757   0.08696306  0.09036944\n",
            "  0.09896055  0.10068879  0.0952536   0.09773325  0.07539792  0.076602\n",
            "  0.07636207  0.07509793  0.07320961  0.07097226  0.06854618  0.06601425\n",
            "  0.06341556  0.06076775  0.05807928  0.0553552   0.05259964  0.04981642\n",
            "  0.04700917  0.04418121  0.04133543  0.03847441  0.03560038  0.03271535\n",
            "  0.02982112  0.0269193   0.02401153  0.02109932  0.01818426  0.01526779\n",
            "  0.01235145  0.00943672  0.00652509  0.00361795  0.00071674 -0.00217729\n",
            " -0.00506281 -0.00793857 -0.01080356 -0.01365661 -0.01649679 -0.01932317\n",
            " -0.02213488 -0.02493118 -0.02771132 -0.03047462 -0.03322051 -0.03594832\n",
            " -0.03865754 -0.04134766 -0.04401815 -0.04666856 -0.04929836 -0.05190715\n",
            " -0.05449437 -0.05705965 -0.05960251 -0.0621225  -0.06461922 -0.06709218\n",
            " -0.06954106 -0.07196543 -0.07436488 -0.07673907 -0.07908764 -0.08141027\n",
            " -0.08370665 -0.08597647 -0.0882195  -0.09043546 -0.09262414 -0.09478545\n",
            " -0.09691908 -0.09902499 -0.10110302 -0.10315297 -0.10517495 -0.10716876\n",
            " -0.10913443 -0.11107191 -0.11298127 -0.11486245]\n",
            "18 day output [[-0.11671557]]\n",
            "19 day input [ 0.07586725  0.0627176   0.06492173  0.07160927  0.05815905  0.06191609\n",
            "  0.07271133  0.07140889  0.0787226   0.08721353  0.08721353  0.07664371\n",
            "  0.08112711  0.07484033  0.0803757   0.08696306  0.09036944  0.09896055\n",
            "  0.10068879  0.0952536   0.09773325  0.07539792  0.076602    0.07636207\n",
            "  0.07509793  0.07320961  0.07097226  0.06854618  0.06601425  0.06341556\n",
            "  0.06076775  0.05807928  0.0553552   0.05259964  0.04981642  0.04700917\n",
            "  0.04418121  0.04133543  0.03847441  0.03560038  0.03271535  0.02982112\n",
            "  0.0269193   0.02401153  0.02109932  0.01818426  0.01526779  0.01235145\n",
            "  0.00943672  0.00652509  0.00361795  0.00071674 -0.00217729 -0.00506281\n",
            " -0.00793857 -0.01080356 -0.01365661 -0.01649679 -0.01932317 -0.02213488\n",
            " -0.02493118 -0.02771132 -0.03047462 -0.03322051 -0.03594832 -0.03865754\n",
            " -0.04134766 -0.04401815 -0.04666856 -0.04929836 -0.05190715 -0.05449437\n",
            " -0.05705965 -0.05960251 -0.0621225  -0.06461922 -0.06709218 -0.06954106\n",
            " -0.07196543 -0.07436488 -0.07673907 -0.07908764 -0.08141027 -0.08370665\n",
            " -0.08597647 -0.0882195  -0.09043546 -0.09262414 -0.09478545 -0.09691908\n",
            " -0.09902499 -0.10110302 -0.10315297 -0.10517495 -0.10716876 -0.10913443\n",
            " -0.11107191 -0.11298127 -0.11486245 -0.11671557]\n",
            "19 day output [[-0.11854065]]\n",
            "20 day input [ 0.0627176   0.06492173  0.07160927  0.05815905  0.06191609  0.07271133\n",
            "  0.07140889  0.0787226   0.08721353  0.08721353  0.07664371  0.08112711\n",
            "  0.07484033  0.0803757   0.08696306  0.09036944  0.09896055  0.10068879\n",
            "  0.0952536   0.09773325  0.07539792  0.076602    0.07636207  0.07509793\n",
            "  0.07320961  0.07097226  0.06854618  0.06601425  0.06341556  0.06076775\n",
            "  0.05807928  0.0553552   0.05259964  0.04981642  0.04700917  0.04418121\n",
            "  0.04133543  0.03847441  0.03560038  0.03271535  0.02982112  0.0269193\n",
            "  0.02401153  0.02109932  0.01818426  0.01526779  0.01235145  0.00943672\n",
            "  0.00652509  0.00361795  0.00071674 -0.00217729 -0.00506281 -0.00793857\n",
            " -0.01080356 -0.01365661 -0.01649679 -0.01932317 -0.02213488 -0.02493118\n",
            " -0.02771132 -0.03047462 -0.03322051 -0.03594832 -0.03865754 -0.04134766\n",
            " -0.04401815 -0.04666856 -0.04929836 -0.05190715 -0.05449437 -0.05705965\n",
            " -0.05960251 -0.0621225  -0.06461922 -0.06709218 -0.06954106 -0.07196543\n",
            " -0.07436488 -0.07673907 -0.07908764 -0.08141027 -0.08370665 -0.08597647\n",
            " -0.0882195  -0.09043546 -0.09262414 -0.09478545 -0.09691908 -0.09902499\n",
            " -0.10110302 -0.10315297 -0.10517495 -0.10716876 -0.10913443 -0.11107191\n",
            " -0.11298127 -0.11486245 -0.11671557 -0.11854065]\n",
            "20 day output [[-0.12033773]]\n",
            "21 day input [ 0.06492173  0.07160927  0.05815905  0.06191609  0.07271133  0.07140889\n",
            "  0.0787226   0.08721353  0.08721353  0.07664371  0.08112711  0.07484033\n",
            "  0.0803757   0.08696306  0.09036944  0.09896055  0.10068879  0.0952536\n",
            "  0.09773325  0.07539792  0.076602    0.07636207  0.07509793  0.07320961\n",
            "  0.07097226  0.06854618  0.06601425  0.06341556  0.06076775  0.05807928\n",
            "  0.0553552   0.05259964  0.04981642  0.04700917  0.04418121  0.04133543\n",
            "  0.03847441  0.03560038  0.03271535  0.02982112  0.0269193   0.02401153\n",
            "  0.02109932  0.01818426  0.01526779  0.01235145  0.00943672  0.00652509\n",
            "  0.00361795  0.00071674 -0.00217729 -0.00506281 -0.00793857 -0.01080356\n",
            " -0.01365661 -0.01649679 -0.01932317 -0.02213488 -0.02493118 -0.02771132\n",
            " -0.03047462 -0.03322051 -0.03594832 -0.03865754 -0.04134766 -0.04401815\n",
            " -0.04666856 -0.04929836 -0.05190715 -0.05449437 -0.05705965 -0.05960251\n",
            " -0.0621225  -0.06461922 -0.06709218 -0.06954106 -0.07196543 -0.07436488\n",
            " -0.07673907 -0.07908764 -0.08141027 -0.08370665 -0.08597647 -0.0882195\n",
            " -0.09043546 -0.09262414 -0.09478545 -0.09691908 -0.09902499 -0.10110302\n",
            " -0.10315297 -0.10517495 -0.10716876 -0.10913443 -0.11107191 -0.11298127\n",
            " -0.11486245 -0.11671557 -0.11854065 -0.12033773]\n",
            "21 day output [[-0.12210696]]\n",
            "22 day input [ 0.07160927  0.05815905  0.06191609  0.07271133  0.07140889  0.0787226\n",
            "  0.08721353  0.08721353  0.07664371  0.08112711  0.07484033  0.0803757\n",
            "  0.08696306  0.09036944  0.09896055  0.10068879  0.0952536   0.09773325\n",
            "  0.07539792  0.076602    0.07636207  0.07509793  0.07320961  0.07097226\n",
            "  0.06854618  0.06601425  0.06341556  0.06076775  0.05807928  0.0553552\n",
            "  0.05259964  0.04981642  0.04700917  0.04418121  0.04133543  0.03847441\n",
            "  0.03560038  0.03271535  0.02982112  0.0269193   0.02401153  0.02109932\n",
            "  0.01818426  0.01526779  0.01235145  0.00943672  0.00652509  0.00361795\n",
            "  0.00071674 -0.00217729 -0.00506281 -0.00793857 -0.01080356 -0.01365661\n",
            " -0.01649679 -0.01932317 -0.02213488 -0.02493118 -0.02771132 -0.03047462\n",
            " -0.03322051 -0.03594832 -0.03865754 -0.04134766 -0.04401815 -0.04666856\n",
            " -0.04929836 -0.05190715 -0.05449437 -0.05705965 -0.05960251 -0.0621225\n",
            " -0.06461922 -0.06709218 -0.06954106 -0.07196543 -0.07436488 -0.07673907\n",
            " -0.07908764 -0.08141027 -0.08370665 -0.08597647 -0.0882195  -0.09043546\n",
            " -0.09262414 -0.09478545 -0.09691908 -0.09902499 -0.10110302 -0.10315297\n",
            " -0.10517495 -0.10716876 -0.10913443 -0.11107191 -0.11298127 -0.11486245\n",
            " -0.11671557 -0.11854065 -0.12033773 -0.12210696]\n",
            "22 day output [[-0.12384845]]\n",
            "23 day input [ 0.05815905  0.06191609  0.07271133  0.07140889  0.0787226   0.08721353\n",
            "  0.08721353  0.07664371  0.08112711  0.07484033  0.0803757   0.08696306\n",
            "  0.09036944  0.09896055  0.10068879  0.0952536   0.09773325  0.07539792\n",
            "  0.076602    0.07636207  0.07509793  0.07320961  0.07097226  0.06854618\n",
            "  0.06601425  0.06341556  0.06076775  0.05807928  0.0553552   0.05259964\n",
            "  0.04981642  0.04700917  0.04418121  0.04133543  0.03847441  0.03560038\n",
            "  0.03271535  0.02982112  0.0269193   0.02401153  0.02109932  0.01818426\n",
            "  0.01526779  0.01235145  0.00943672  0.00652509  0.00361795  0.00071674\n",
            " -0.00217729 -0.00506281 -0.00793857 -0.01080356 -0.01365661 -0.01649679\n",
            " -0.01932317 -0.02213488 -0.02493118 -0.02771132 -0.03047462 -0.03322051\n",
            " -0.03594832 -0.03865754 -0.04134766 -0.04401815 -0.04666856 -0.04929836\n",
            " -0.05190715 -0.05449437 -0.05705965 -0.05960251 -0.0621225  -0.06461922\n",
            " -0.06709218 -0.06954106 -0.07196543 -0.07436488 -0.07673907 -0.07908764\n",
            " -0.08141027 -0.08370665 -0.08597647 -0.0882195  -0.09043546 -0.09262414\n",
            " -0.09478545 -0.09691908 -0.09902499 -0.10110302 -0.10315297 -0.10517495\n",
            " -0.10716876 -0.10913443 -0.11107191 -0.11298127 -0.11486245 -0.11671557\n",
            " -0.11854065 -0.12033773 -0.12210696 -0.12384845]\n",
            "23 day output [[-0.12556227]]\n",
            "24 day input [ 0.06191609  0.07271133  0.07140889  0.0787226   0.08721353  0.08721353\n",
            "  0.07664371  0.08112711  0.07484033  0.0803757   0.08696306  0.09036944\n",
            "  0.09896055  0.10068879  0.0952536   0.09773325  0.07539792  0.076602\n",
            "  0.07636207  0.07509793  0.07320961  0.07097226  0.06854618  0.06601425\n",
            "  0.06341556  0.06076775  0.05807928  0.0553552   0.05259964  0.04981642\n",
            "  0.04700917  0.04418121  0.04133543  0.03847441  0.03560038  0.03271535\n",
            "  0.02982112  0.0269193   0.02401153  0.02109932  0.01818426  0.01526779\n",
            "  0.01235145  0.00943672  0.00652509  0.00361795  0.00071674 -0.00217729\n",
            " -0.00506281 -0.00793857 -0.01080356 -0.01365661 -0.01649679 -0.01932317\n",
            " -0.02213488 -0.02493118 -0.02771132 -0.03047462 -0.03322051 -0.03594832\n",
            " -0.03865754 -0.04134766 -0.04401815 -0.04666856 -0.04929836 -0.05190715\n",
            " -0.05449437 -0.05705965 -0.05960251 -0.0621225  -0.06461922 -0.06709218\n",
            " -0.06954106 -0.07196543 -0.07436488 -0.07673907 -0.07908764 -0.08141027\n",
            " -0.08370665 -0.08597647 -0.0882195  -0.09043546 -0.09262414 -0.09478545\n",
            " -0.09691908 -0.09902499 -0.10110302 -0.10315297 -0.10517495 -0.10716876\n",
            " -0.10913443 -0.11107191 -0.11298127 -0.11486245 -0.11671557 -0.11854065\n",
            " -0.12033773 -0.12210696 -0.12384845 -0.12556227]\n",
            "24 day output [[-0.12724857]]\n",
            "25 day input [ 0.07271133  0.07140889  0.0787226   0.08721353  0.08721353  0.07664371\n",
            "  0.08112711  0.07484033  0.0803757   0.08696306  0.09036944  0.09896055\n",
            "  0.10068879  0.0952536   0.09773325  0.07539792  0.076602    0.07636207\n",
            "  0.07509793  0.07320961  0.07097226  0.06854618  0.06601425  0.06341556\n",
            "  0.06076775  0.05807928  0.0553552   0.05259964  0.04981642  0.04700917\n",
            "  0.04418121  0.04133543  0.03847441  0.03560038  0.03271535  0.02982112\n",
            "  0.0269193   0.02401153  0.02109932  0.01818426  0.01526779  0.01235145\n",
            "  0.00943672  0.00652509  0.00361795  0.00071674 -0.00217729 -0.00506281\n",
            " -0.00793857 -0.01080356 -0.01365661 -0.01649679 -0.01932317 -0.02213488\n",
            " -0.02493118 -0.02771132 -0.03047462 -0.03322051 -0.03594832 -0.03865754\n",
            " -0.04134766 -0.04401815 -0.04666856 -0.04929836 -0.05190715 -0.05449437\n",
            " -0.05705965 -0.05960251 -0.0621225  -0.06461922 -0.06709218 -0.06954106\n",
            " -0.07196543 -0.07436488 -0.07673907 -0.07908764 -0.08141027 -0.08370665\n",
            " -0.08597647 -0.0882195  -0.09043546 -0.09262414 -0.09478545 -0.09691908\n",
            " -0.09902499 -0.10110302 -0.10315297 -0.10517495 -0.10716876 -0.10913443\n",
            " -0.11107191 -0.11298127 -0.11486245 -0.11671557 -0.11854065 -0.12033773\n",
            " -0.12210696 -0.12384845 -0.12556227 -0.12724857]\n",
            "25 day output [[-0.12890752]]\n",
            "26 day input [ 0.07140889  0.0787226   0.08721353  0.08721353  0.07664371  0.08112711\n",
            "  0.07484033  0.0803757   0.08696306  0.09036944  0.09896055  0.10068879\n",
            "  0.0952536   0.09773325  0.07539792  0.076602    0.07636207  0.07509793\n",
            "  0.07320961  0.07097226  0.06854618  0.06601425  0.06341556  0.06076775\n",
            "  0.05807928  0.0553552   0.05259964  0.04981642  0.04700917  0.04418121\n",
            "  0.04133543  0.03847441  0.03560038  0.03271535  0.02982112  0.0269193\n",
            "  0.02401153  0.02109932  0.01818426  0.01526779  0.01235145  0.00943672\n",
            "  0.00652509  0.00361795  0.00071674 -0.00217729 -0.00506281 -0.00793857\n",
            " -0.01080356 -0.01365661 -0.01649679 -0.01932317 -0.02213488 -0.02493118\n",
            " -0.02771132 -0.03047462 -0.03322051 -0.03594832 -0.03865754 -0.04134766\n",
            " -0.04401815 -0.04666856 -0.04929836 -0.05190715 -0.05449437 -0.05705965\n",
            " -0.05960251 -0.0621225  -0.06461922 -0.06709218 -0.06954106 -0.07196543\n",
            " -0.07436488 -0.07673907 -0.07908764 -0.08141027 -0.08370665 -0.08597647\n",
            " -0.0882195  -0.09043546 -0.09262414 -0.09478545 -0.09691908 -0.09902499\n",
            " -0.10110302 -0.10315297 -0.10517495 -0.10716876 -0.10913443 -0.11107191\n",
            " -0.11298127 -0.11486245 -0.11671557 -0.11854065 -0.12033773 -0.12210696\n",
            " -0.12384845 -0.12556227 -0.12724857 -0.12890752]\n",
            "26 day output [[-0.1305392]]\n",
            "27 day input [ 0.0787226   0.08721353  0.08721353  0.07664371  0.08112711  0.07484033\n",
            "  0.0803757   0.08696306  0.09036944  0.09896055  0.10068879  0.0952536\n",
            "  0.09773325  0.07539792  0.076602    0.07636207  0.07509793  0.07320961\n",
            "  0.07097226  0.06854618  0.06601425  0.06341556  0.06076775  0.05807928\n",
            "  0.0553552   0.05259964  0.04981642  0.04700917  0.04418121  0.04133543\n",
            "  0.03847441  0.03560038  0.03271535  0.02982112  0.0269193   0.02401153\n",
            "  0.02109932  0.01818426  0.01526779  0.01235145  0.00943672  0.00652509\n",
            "  0.00361795  0.00071674 -0.00217729 -0.00506281 -0.00793857 -0.01080356\n",
            " -0.01365661 -0.01649679 -0.01932317 -0.02213488 -0.02493118 -0.02771132\n",
            " -0.03047462 -0.03322051 -0.03594832 -0.03865754 -0.04134766 -0.04401815\n",
            " -0.04666856 -0.04929836 -0.05190715 -0.05449437 -0.05705965 -0.05960251\n",
            " -0.0621225  -0.06461922 -0.06709218 -0.06954106 -0.07196543 -0.07436488\n",
            " -0.07673907 -0.07908764 -0.08141027 -0.08370665 -0.08597647 -0.0882195\n",
            " -0.09043546 -0.09262414 -0.09478545 -0.09691908 -0.09902499 -0.10110302\n",
            " -0.10315297 -0.10517495 -0.10716876 -0.10913443 -0.11107191 -0.11298127\n",
            " -0.11486245 -0.11671557 -0.11854065 -0.12033773 -0.12210696 -0.12384845\n",
            " -0.12556227 -0.12724857 -0.12890752 -0.13053919]\n",
            "27 day output [[-0.13214386]]\n",
            "28 day input [ 0.08721353  0.08721353  0.07664371  0.08112711  0.07484033  0.0803757\n",
            "  0.08696306  0.09036944  0.09896055  0.10068879  0.0952536   0.09773325\n",
            "  0.07539792  0.076602    0.07636207  0.07509793  0.07320961  0.07097226\n",
            "  0.06854618  0.06601425  0.06341556  0.06076775  0.05807928  0.0553552\n",
            "  0.05259964  0.04981642  0.04700917  0.04418121  0.04133543  0.03847441\n",
            "  0.03560038  0.03271535  0.02982112  0.0269193   0.02401153  0.02109932\n",
            "  0.01818426  0.01526779  0.01235145  0.00943672  0.00652509  0.00361795\n",
            "  0.00071674 -0.00217729 -0.00506281 -0.00793857 -0.01080356 -0.01365661\n",
            " -0.01649679 -0.01932317 -0.02213488 -0.02493118 -0.02771132 -0.03047462\n",
            " -0.03322051 -0.03594832 -0.03865754 -0.04134766 -0.04401815 -0.04666856\n",
            " -0.04929836 -0.05190715 -0.05449437 -0.05705965 -0.05960251 -0.0621225\n",
            " -0.06461922 -0.06709218 -0.06954106 -0.07196543 -0.07436488 -0.07673907\n",
            " -0.07908764 -0.08141027 -0.08370665 -0.08597647 -0.0882195  -0.09043546\n",
            " -0.09262414 -0.09478545 -0.09691908 -0.09902499 -0.10110302 -0.10315297\n",
            " -0.10517495 -0.10716876 -0.10913443 -0.11107191 -0.11298127 -0.11486245\n",
            " -0.11671557 -0.11854065 -0.12033773 -0.12210696 -0.12384845 -0.12556227\n",
            " -0.12724857 -0.12890752 -0.13053919 -0.13214386]\n",
            "28 day output [[-0.13372162]]\n",
            "29 day input [ 0.08721353  0.07664371  0.08112711  0.07484033  0.0803757   0.08696306\n",
            "  0.09036944  0.09896055  0.10068879  0.0952536   0.09773325  0.07539792\n",
            "  0.076602    0.07636207  0.07509793  0.07320961  0.07097226  0.06854618\n",
            "  0.06601425  0.06341556  0.06076775  0.05807928  0.0553552   0.05259964\n",
            "  0.04981642  0.04700917  0.04418121  0.04133543  0.03847441  0.03560038\n",
            "  0.03271535  0.02982112  0.0269193   0.02401153  0.02109932  0.01818426\n",
            "  0.01526779  0.01235145  0.00943672  0.00652509  0.00361795  0.00071674\n",
            " -0.00217729 -0.00506281 -0.00793857 -0.01080356 -0.01365661 -0.01649679\n",
            " -0.01932317 -0.02213488 -0.02493118 -0.02771132 -0.03047462 -0.03322051\n",
            " -0.03594832 -0.03865754 -0.04134766 -0.04401815 -0.04666856 -0.04929836\n",
            " -0.05190715 -0.05449437 -0.05705965 -0.05960251 -0.0621225  -0.06461922\n",
            " -0.06709218 -0.06954106 -0.07196543 -0.07436488 -0.07673907 -0.07908764\n",
            " -0.08141027 -0.08370665 -0.08597647 -0.0882195  -0.09043546 -0.09262414\n",
            " -0.09478545 -0.09691908 -0.09902499 -0.10110302 -0.10315297 -0.10517495\n",
            " -0.10716876 -0.10913443 -0.11107191 -0.11298127 -0.11486245 -0.11671557\n",
            " -0.11854065 -0.12033773 -0.12210696 -0.12384845 -0.12556227 -0.12724857\n",
            " -0.12890752 -0.13053919 -0.13214386 -0.13372162]\n",
            "29 day output [[-0.13527264]]\n",
            "[[-0.07908763736486435], [-0.08141026645898819], [-0.08370665460824966], [-0.08597646653652191], [-0.08821950107812881], [-0.0904354602098465], [-0.09262414276599884], [-0.09478545188903809], [-0.09691908210515976], [-0.09902498871088028], [-0.10110301524400711], [-0.10315296798944473], [-0.1051749512553215], [-0.1071687564253807], [-0.10913442820310593], [-0.11107190698385239], [-0.11298126727342606], [-0.11486244946718216], [-0.11671557277441025], [-0.11854065209627151], [-0.12033773213624954], [-0.12210696190595627], [-0.12384844571352005], [-0.12556226551532745], [-0.12724857032299042], [-0.12890751659870148], [-0.1305391937494278], [-0.13214385509490967], [-0.13372161984443665], [-0.13527263700962067]]\n"
          ]
        }
      ]
    },
    {
      "cell_type": "code",
      "source": [
        "day_new=np.arange(1,101)    #data is of 100 days\n",
        "day_pred=np.arange(101,131)   #prediction is to be done for 30 days"
      ],
      "metadata": {
        "id": "TkI50TJjVzdc"
      },
      "execution_count": 202,
      "outputs": []
    },
    {
      "cell_type": "code",
      "source": [
        "dfnewnew=dfnew.tolist()\n",
        "dfnewnew.extend(lst_output)"
      ],
      "metadata": {
        "id": "izIH6AxCYOM2"
      },
      "execution_count": 197,
      "outputs": []
    },
    {
      "cell_type": "code",
      "source": [
        "len(dfnew)\n"
      ],
      "metadata": {
        "colab": {
          "base_uri": "https://localhost:8080/"
        },
        "id": "GIi6aBO3Ya9m",
        "outputId": "30ecf95d-537a-4e2c-fe53-6696c5f3143c"
      },
      "execution_count": 200,
      "outputs": [
        {
          "output_type": "execute_result",
          "data": {
            "text/plain": [
              "1257"
            ]
          },
          "metadata": {},
          "execution_count": 200
        }
      ]
    },
    {
      "cell_type": "code",
      "source": [
        "plt.plot(day_new,scaler.inverse_transform(dfnew[1157:]))\n",
        "plt.plot(day_pred,scaler.inverse_transform(lst_output))"
      ],
      "metadata": {
        "colab": {
          "base_uri": "https://localhost:8080/",
          "height": 282
        },
        "id": "M6XsA-ILYerJ",
        "outputId": "42fa225c-b793-4751-bde6-f3f9b161c2be"
      },
      "execution_count": 204,
      "outputs": [
        {
          "output_type": "execute_result",
          "data": {
            "text/plain": [
              "[<matplotlib.lines.Line2D at 0x7fbe066cf2d0>]"
            ]
          },
          "metadata": {},
          "execution_count": 204
        },
        {
          "output_type": "display_data",
          "data": {
            "text/plain": [
              "<Figure size 432x288 with 1 Axes>"
            ],
            "image/png": "[encoded data removed]"
          },
          "metadata": {
            "needs_background": "light"
          }
        }
      ]
    },
    {
      "cell_type": "markdown",
      "source": [
        "COMBINED PREDICTION OF 30 DAYS"
      ],
      "metadata": {
        "id": "ZrCJOnYbcKXe"
      }
    },
    {
      "cell_type": "code",
      "source": [
        "dfnewnew=dfnew.tolist()\n",
        "dfnewnew.extend(lst_output)\n",
        "plt.plot(dfnewnew[1200:])"
      ],
      "metadata": {
        "colab": {
          "base_uri": "https://localhost:8080/",
          "height": 282
        },
        "id": "OWVHuKFlbzQ2",
        "outputId": "0eddd115-ac68-4042-f10b-70aea66261c6"
      },
      "execution_count": 211,
      "outputs": [
        {
          "output_type": "execute_result",
          "data": {
            "text/plain": [
              "[<matplotlib.lines.Line2D at 0x7fbe037c6490>]"
            ]
          },
          "metadata": {},
          "execution_count": 211
        },
        {
          "output_type": "display_data",
          "data": {
            "text/plain": [
              "<Figure size 432x288 with 1 Axes>"
            ],
            "image/png": "[encoded data removed]"
          },
          "metadata": {
            "needs_background": "light"
          }
        }
      ]
    },
    {
      "cell_type": "code",
      "source": [
        "dfnewnew=scaler.inverse_transform(dfnewnew).tolist()\n",
        "plt.plot(dfnewnew)"
      ],
      "metadata": {
        "colab": {
          "base_uri": "https://localhost:8080/",
          "height": 282
        },
        "id": "WcIxozhtcsYG",
        "outputId": "ffaea6f4-57fc-4f85-c86a-64361a7abf95"
      },
      "execution_count": 213,
      "outputs": [
        {
          "output_type": "execute_result",
          "data": {
            "text/plain": [
              "[<matplotlib.lines.Line2D at 0x7fbe036c7190>]"
            ]
          },
          "metadata": {},
          "execution_count": 213
        },
        {
          "output_type": "display_data",
          "data": {
            "text/plain": [
              "<Figure size 432x288 with 1 Axes>"
            ],
            "image/png": "[encoded data removed]"
          },
          "metadata": {
            "needs_background": "light"
          }
        }
      ]
    },
    {
      "cell_type": "markdown",
      "source": [
        "#FINAL RESULT OF PREDICTING APPLE STOCK PRICE FOR NEXT 30 DAYS"
      ],
      "metadata": {
        "id": "QQq_4ZVQdOIh"
      }
    }
  ]
}